{
 "cells": [
  {
   "attachments": {},
   "cell_type": "markdown",
   "id": "fce6a5d1",
   "metadata": {},
   "source": [
    "# Task-Space Control of a 6 dof manipulator"
   ]
  },
  {
   "attachments": {},
   "cell_type": "markdown",
   "id": "59dce85c",
   "metadata": {},
   "source": [
    "## Imort all the modules needed for the simulation"
   ]
  },
  {
   "cell_type": "code",
   "execution_count": 1,
   "id": "fcfb65a2",
   "metadata": {},
   "outputs": [],
   "source": [
    "from pickle import GLOBAL\n",
    "import pinocchio as pin\n",
    "import numpy as np\n",
    "import sys\n",
    "import os\n",
    "from os.path import dirname, join, abspath\n",
    "from pinocchio.visualize import MeshcatVisualizer\n",
    "import time\n",
    "import math\n",
    "import meshcat\n",
    "import matplotlib.pyplot as plt\n",
    "from numpy.linalg import norm, solve\n",
    "from scipy.spatial.transform import Rotation\n",
    "import meshcat.transformations as tf\n",
    "import meshcat.geometry as g\n",
    "from meshcat.animation import Animation\n",
    "from numpy.linalg import inv,pinv,eig,norm,svd,det\n",
    "plt.rcParams['text.usetex'] = True"
   ]
  },
  {
   "attachments": {},
   "cell_type": "markdown",
   "id": "4424bdca",
   "metadata": {},
   "source": [
    "## Meshcat functions"
   ]
  },
  {
   "cell_type": "code",
   "execution_count": 2,
   "id": "1b7a8c0f",
   "metadata": {},
   "outputs": [],
   "source": [
    "def meshcat_material(r, g, b, a):\n",
    "    import meshcat\n",
    "\n",
    "    material = meshcat.geometry.MeshPhongMaterial()\n",
    "    material.color = int(r * 255) * 256 ** 2 + int(g * 255) * 256 + int(b * 255)\n",
    "    material.opacity = a\n",
    "    return material\n"
   ]
  },
  {
   "attachments": {},
   "cell_type": "markdown",
   "id": "43ee7e1c",
   "metadata": {},
   "source": [
    "## Bring the URDF model of the robot "
   ]
  },
  {
   "cell_type": "code",
   "execution_count": 3,
   "id": "63f1e41b",
   "metadata": {},
   "outputs": [],
   "source": [
    "pinocchio_model_dir = '/home/unknown/Documents/Posdoc/ModelsCads/urdf' \n",
    "mesh_dir = pinocchio_model_dir + '/kinova_description/meshes/'\n",
    "urdf_model_path =pinocchio_model_dir + '/j2s6s200_simple.urdf'\n",
    "model, collision_model, visual_model = pin.buildModelsFromUrdf(urdf_model_path, mesh_dir)\n",
    "# Choose of the visualizer\n",
    "viz = MeshcatVisualizer(model, collision_model, visual_model)"
   ]
  },
  {
   "attachments": {},
   "cell_type": "markdown",
   "id": "68309b43",
   "metadata": {},
   "source": [
    "## Identify the frame and joint IDs"
   ]
  },
  {
   "cell_type": "code",
   "execution_count": 4,
   "id": "5b7a2daf",
   "metadata": {},
   "outputs": [],
   "source": [
    "frameIndex = model.getFrameId('j2s6s200_end_effector')\n",
    "jointIndex = model.frames[frameIndex].parent"
   ]
  },
  {
   "attachments": {},
   "cell_type": "markdown",
   "id": "9eb8c009",
   "metadata": {},
   "source": [
    "## Initialize the viewer"
   ]
  },
  {
   "cell_type": "code",
   "execution_count": 5,
   "id": "d1293b18",
   "metadata": {},
   "outputs": [
    {
     "name": "stdout",
     "output_type": "stream",
     "text": [
      "You can open the visualizer by visiting the following URL:\n",
      "http://127.0.0.1:7000/static/\n"
     ]
    }
   ],
   "source": [
    "try:\n",
    "    viz.initViewer()\n",
    "except ImportError as err:\n",
    "    print(\"Error while initializing the viewer. It seems you should install gepetto-viewer\")\n",
    "    print(err)\n",
    "    sys.exit(0)\n",
    "\n",
    "try:\n",
    "    viz.loadViewerModel(\"pinocchio\")\n",
    "except AttributeError as err:\n",
    "    print(\"Error while loading the viewer model. It seems you should start gepetto-viewer\")\n",
    "    print(err)\n",
    "    sys.exit(0)\n",
    "viz.viewer['world'].set_transform(np.array(pin.XYZQUATToSE3([0, 0, 0, 0, 0, 1, 0])))\n"
   ]
  },
  {
   "attachments": {},
   "cell_type": "markdown",
   "id": "db5ff282",
   "metadata": {},
   "source": [
    "## Manipulator dynamic model"
   ]
  },
  {
   "attachments": {},
   "cell_type": "markdown",
   "id": "d8dbdf11",
   "metadata": {},
   "source": [
    "\\begin{equation}\n",
    "\\mathbf{\n",
    "M(q)\\ddot{q} + C(q,\\dot{q})\\dot{q} + g(q) = \\tau }\n",
    "\\end{equation}"
   ]
  },
  {
   "attachments": {},
   "cell_type": "markdown",
   "id": "c48aa80d",
   "metadata": {},
   "source": [
    "### The closed loop control law $\\tau$ can be written "
   ]
  },
  {
   "attachments": {},
   "cell_type": "markdown",
   "id": "67f7ec06",
   "metadata": {},
   "source": [
    "\\begin{equation}\n",
    "\\mathbf{\n",
    "{\\tau} = M(q)u +  g(q) + C(q,\\dot{q})}\n",
    "\\end{equation}\n",
    "where\n",
    "\\begin{equation}\n",
    "\\mathbf{\n",
    "u = J^{-1}(q)(\\ddot{x}_d+ K_d \\dot{\\tilde{x}} + K_p {\\tilde{x}} - \\dot{J}\\dot{q})};  ~~~~~~ \\tilde{x}= x_d - x\n",
    "\\end{equation} "
   ]
  },
  {
   "attachments": {},
   "cell_type": "markdown",
   "id": "c6b19ab9",
   "metadata": {},
   "source": [
    "## Simulation function"
   ]
  },
  {
   "cell_type": "code",
   "execution_count": 6,
   "id": "32feca9a",
   "metadata": {},
   "outputs": [],
   "source": [
    "def run_robot():\n",
    "\n",
    "    def df_dq(model,func,q,h=1e-9):\n",
    "        dq = pin.utils.zero(model.nv)\n",
    "        f0 = func(q)\n",
    "        AM_i = pin.utils.zero([6,3,3])\n",
    "        for iq in range(model.nv):\n",
    "            dq[iq] = h\n",
    "            res2 = (func(pin.integrate(model,q,dq)) - f0)/h\n",
    "            AM_i[iq,:,:] = np.array([ [res2[0],res2[3],res2[4]], [res2[3],res2[1],res2[5]], [res2[4],res2[5],res2[2]] ])\n",
    "            dq[iq] = 0\n",
    "        return AM_i\n",
    "    \n",
    "    def calc_jac3(q):\n",
    "        \"\"\" Compute Jacobian \"\"\"\n",
    "        pin.forwardKinematics(model,data,q)\n",
    "        pin.updateFramePlacements(model,data)\n",
    "        pin.computeJointJacobians(model, data, q)\n",
    "        J=pin.getFrameJacobian(model,data,frameIndex,pin.LOCAL_WORLD_ALIGNED)\n",
    "        Jbl = J[:3]\n",
    "        R = Jbl@Jbl.T\n",
    "        Rv = np.array([R[0][0],R[1][1], R[2][2], R[0][1], R[0][2], R[1][2]])                      \n",
    "        return Rv.copy()\n",
    "    \n",
    "    # Create data required by the algorithms\n",
    "    data = model.createData()\n",
    "\n",
    "    # Sample a random configuration\n",
    "    q =np.array([0, 3.2, 1.5, np.pi, 1.9,0])\n",
    "    qdot = pin.utils.zero(model.nv) # this is the angular velocity \n",
    "    a = pin.utils.zero(model.nv)\n",
    "    qdot_max = np.array([0.63, 0.63, 0.63, 0.84, 0.84,0.84]) #1,2,3 = 36 deg/s; 4,5,6 =48 deg/s \n",
    "\n",
    "    pin.forwardKinematics(model,data,q)\n",
    "    pin.updateFramePlacements(model,data) #Computes the placement of all the joints\n",
    "    OM_act=data.oMf[model.getFrameId(\"j2s6s200_end_effector\")]\n",
    "    #print(OM_act.translation)\n",
    "    kappa = 1\n",
    "    d_bar = 0.1\n",
    "    # Control variables\n",
    "    nuvs = 5\n",
    "    kvs = np.array([nuvs, nuvs, nuvs, nuvs, nuvs, nuvs])\n",
    "    Kv = np.diag(kvs)\n",
    "\n",
    "    luvs = 5\n",
    "    kps = np.array([luvs, luvs, luvs,luvs, luvs, luvs])\n",
    "    Kp = np.diag(kps)\n",
    "\n",
    "    alpha = 20\n",
    "    t = 0\n",
    "    dt = 5e-2\n",
    "    T = 5\n",
    "    N = math.floor(T/dt)\n",
    "    \n",
    "    # for graphs\n",
    "    t_list = []\n",
    "    u_list = []    \n",
    "    q_list = [] #q\n",
    "    pose_list = []\n",
    "    pose_des_list = []\n",
    "    Mdn_list = []\n",
    "    kappa_list = []\n",
    "    d_list = []\n",
    "    Dkappa_list = []\n",
    "    E1_list = []\n",
    "    E2_list = []\n",
    "    xo=-0.2; yo =-0.25; zo=0.4 # Position of the obstacle  -0.38478977, -0.5, 0.4\n",
    "    # This is the desired orientation and pose. The static pose is [-0.38478977 -0.0098      0.38623122]\n",
    "    oMdes = pin.SE3(OM_act.rotation,np.array([-0.18478977, -0.5, 0.4]))  # pin.SE3(OM_act.rotation,OM_act.translation) #\n",
    "    \n",
    "    viz.viewer['world/ball'].set_object(g.Sphere(0.03),\n",
    "                                    meshcat_material(*[0.4, 0.5,0.1, 1]))\n",
    "    viz.viewer['world/ball'].set_transform(tf.translation_matrix([oMdes.translation[0]*-1, \n",
    "                                                                  oMdes.translation[1]*-1, oMdes.translation[2]]))\n",
    "    \n",
    "    viz.viewer['world/obs'].set_object(g.Sphere(0.03),\n",
    "                                    meshcat_material(*[1, 0.16, 0.12, 1]))\n",
    "    viz.viewer['world/obs'].set_transform(tf.translation_matrix([xo*-1, yo*-1, zo]))\n",
    "\n",
    "    viz.viewer['world/ball0'].set_object(g.Sphere(0.03),\n",
    "                                    meshcat_material(*[0.1, 0.5, 1, 1]))\n",
    "    viz.viewer['world/ball0'].set_transform(tf.translation_matrix([OM_act.translation[0]*-1, \n",
    "                                                                  OM_act.translation[1]*-1, OM_act.translation[2]]))\n",
    "           \n",
    "    for k in range(N):\n",
    "        t += dt\n",
    "        tic = time.time()\n",
    "\n",
    "        pin.forwardKinematics(model,data,q)\n",
    "        pin.updateFramePlacements(model,data)\n",
    "        OM_act = data.oMf[frameIndex]\n",
    "\n",
    "        oriErrorRotm = OM_act.rotation.T@oMdes.rotation\n",
    "        rot = Rotation.from_matrix(oriErrorRotm)\n",
    "        oriErrorEul = rot.as_euler('YXZ')\n",
    "        posError = OM_act.translation.T-oMdes.translation.T\n",
    "        posError = np.concatenate((posError,oriErrorEul))\n",
    "\n",
    "\n",
    "        pin.computeJointJacobians(model, data, q) # Compute all the Jacobians for all the joints\n",
    "        J=pin.getFrameJacobian(model,data,frameIndex,pin.LOCAL_WORLD_ALIGNED) # in the base frame  \n",
    "        dJ = pin.computeJointJacobiansTimeVariation(model,data,q,qdot) # Derivative of the Jacobian\n",
    "        Jbl = J[:3] # linear part of the Jacobian\n",
    "        Al = Jbl@Jbl.T \n",
    "        Al_inv = inv(Al)      \n",
    "        Al_det = det(Al)        \n",
    "        pos = np.array([OM_act.translation[0],OM_act.translation[1],OM_act.translation[2]])\n",
    "        dJ_dqn = df_dq(model,lambda _q: calc_jac3(_q),q)\n",
    "        \n",
    "        for i in range(6):\n",
    "            dJ_dqn[i,:,:] = dJ_dqn[i]*qdot_max[i]\n",
    "        P_o = np.array([xo,yo,zo])\n",
    "        d = P_o.T - pos.T \n",
    "        #dir_obs = P_o@ d/norm(d)\n",
    "        #print(dir_obs)\n",
    "        Zeta = norm(sum(dJ_dqn)@Al_inv)*abs(kappa)\n",
    "        \n",
    "        if (norm(d) <= d_bar):\n",
    "            Dkappa =  Zeta*np.tanh(alpha*d.T@(Jbl@qdot))\n",
    "        else:\n",
    "            Dkappa = 0\n",
    "\n",
    "        if (norm(d) <= d_bar):  \n",
    "            kappa = kappa + Dkappa*dt\n",
    "        else:\n",
    "            kappa = 1   \n",
    "        Md = kappa*Al_inv\n",
    "        \n",
    "        if Al_det < 1e-15:  \n",
    "            Al_det = 0.0                \n",
    "        if Al_det == 0.0:\n",
    "            E_1 = math.nan\n",
    "            E_2 = math.nan\n",
    "        else:\n",
    "            E_1 = Zeta\n",
    "            E_2 = Dkappa\n",
    "\n",
    "        xdot = J@qdot\n",
    "        # Compute torque control\n",
    "        u = -Kp@posError - Kv@xdot + dJ@qdot\n",
    "        a = solve(J,u)\n",
    "        tau = pin.rnea(model, data, q, qdot, a)\n",
    "\n",
    "        # Compute forward dynamics\n",
    "        qddot = pin.aba(model, data, q, qdot, tau)\n",
    "\n",
    "        qdot = qdot + qddot * dt \n",
    "        q = pin.integrate(model,q,qdot*dt)\n",
    "\n",
    "        # Show model with a visualizer of your choice\n",
    "        viz.display(q)\n",
    "        q_list.append(q)\n",
    "        pose_list.append(pos)\n",
    "        pose_des_list.append(oMdes.translation)\n",
    "        t_list.append(t)\n",
    "        u_list.append(tau)\n",
    "        d_list.append(norm(d))\n",
    "        Mdn_list.append(norm(Md))\n",
    "        kappa_list.append(kappa)\n",
    "        Dkappa_list.append(Dkappa)\n",
    "        E1_list.append(E_1)\n",
    "        E2_list.append(E_2)\n",
    "\n",
    "        toc = time.time() \n",
    "        ellapsed = toc - tic\n",
    "        dt_sleep = max(0,dt - (ellapsed))\n",
    "        time.sleep(dt_sleep)\n",
    "\n",
    "    t_list = np.array(t_list)\n",
    "    u_list = np.array(u_list)\n",
    "    q_list = np.array(q_list)\n",
    "    pose_list = np.array(pose_list)\n",
    "    pose_des_list = np.array(pose_des_list)\n",
    "    d_list = np.array(d_list)\n",
    "    Mdn_list = np.array(Mdn_list)\n",
    "    kappa_list = np.array(kappa_list)\n",
    "    Dkappa_list = np.array(Dkappa_list)\n",
    "    E1_list = np.array(E1_list)\n",
    "    E2_list = np.array(E2_list)\n",
    "    \n",
    "    return t_list, u_list, q_list, pose_list, pose_des_list, d_list, Mdn_list, kappa_list, Dkappa_list, E1_list, E2_list\n"
   ]
  },
  {
   "cell_type": "code",
   "execution_count": 7,
   "id": "d6bdc28b",
   "metadata": {
    "scrolled": false
   },
   "outputs": [
    {
     "data": {
      "text/html": [
       "\n",
       "            <div style=\"height: 400px; width: 100%; overflow-x: auto; overflow-y: hidden; resize: both\">\n",
       "            <iframe src=\"http://127.0.0.1:7000/static/\" style=\"width: 100%; height: 100%; border: none\"></iframe>\n",
       "            </div>\n",
       "            "
      ],
      "text/plain": [
       "<IPython.core.display.HTML object>"
      ]
     },
     "execution_count": 7,
     "metadata": {},
     "output_type": "execute_result"
    }
   ],
   "source": [
    "isinstance(viz, pin.visualize.MeshcatVisualizer) and viz.viewer.jupyter_cell()"
   ]
  },
  {
   "cell_type": "code",
   "execution_count": 8,
   "id": "777635ed",
   "metadata": {},
   "outputs": [],
   "source": [
    "t_list, u_list, q_list, pose_list, pose_des_list, d, Md, kappa, Dkappa, E1, E2 = run_robot()"
   ]
  },
  {
   "cell_type": "code",
   "execution_count": 9,
   "id": "0e5df3db",
   "metadata": {},
   "outputs": [
    {
     "name": "stderr",
     "output_type": "stream",
     "text": [
      "/tmp/ipykernel_10478/476603297.py:3: MatplotlibDeprecationWarning: Auto-removal of overlapping axes is deprecated since 3.6 and will be removed two minor releases later; explicitly call ax.remove() as needed.\n",
      "  ax = plt.subplot(2, 2, 1)\n"
     ]
    },
    {
     "data": {
      "image/png": "[encoded data removed]",
      "text/plain": [
       "<Figure size 640x480 with 2 Axes>"
      ]
     },
     "metadata": {},
     "output_type": "display_data"
    }
   ],
   "source": [
    "#Graph kappa\n",
    "fig, ax = plt.subplots()\n",
    "ax = plt.subplot(2, 2, 1)\n",
    "plt.plot(d, kappa)\n",
    "ax.set_ylabel(r\"$\\kappa(t)$\", fontsize = 14)\n",
    "ax.set_xlabel('Time (s)')\n",
    "plt.grid(True)\n",
    "fig.tight_layout()\n",
    "\n",
    "ax = plt.subplot(2, 2, 2)\n",
    "plt.plot(d, Dkappa)\n",
    "ax.set_ylabel(r\"$\\dot{\\kappa}(t)$\", fontsize = 14)\n",
    "ax.set_xlabel('Time (s)')\n",
    "plt.grid(True)\n",
    "fig.tight_layout()\n",
    "plt.show()\n"
   ]
  },
  {
   "cell_type": "code",
   "execution_count": 10,
   "id": "05e6789f",
   "metadata": {},
   "outputs": [
    {
     "data": {
      "image/png": "[encoded data removed]",
      "text/plain": [
       "<Figure size 640x480 with 1 Axes>"
      ]
     },
     "metadata": {},
     "output_type": "display_data"
    }
   ],
   "source": [
    "fig, ax = plt.subplots()\n",
    "#ax = plt.subplot(3, 2, 1)\n",
    "plt.plot(d, Md)\n",
    "ax.set_ylabel(r\"$ || \\Lambda_d(q) || $\", fontsize = 14)\n",
    "ax.set_xlabel('Time (s)')\n",
    "\n",
    "plt.grid(True)\n",
    "plt.show()"
   ]
  },
  {
   "cell_type": "code",
   "execution_count": 27,
   "id": "9808cf52",
   "metadata": {},
   "outputs": [
    {
     "data": {
      "image/png": "[encoded data removed]",
      "text/plain": [
       "<Figure size 640x480 with 1 Axes>"
      ]
     },
     "metadata": {},
     "output_type": "display_data"
    }
   ],
   "source": [
    "fig, ax = plt.subplots()\n",
    "#ax = plt.subplot(3, 2, 1)\n",
    "plt.plot(t_list, d)\n",
    "ax.set_ylabel(r\"$ ||d|| $\", fontsize = 14)\n",
    "ax.set_xlabel('Time (s)')\n",
    "plt.grid(True)\n",
    "plt.show()"
   ]
  },
  {
   "cell_type": "code",
   "execution_count": 11,
   "id": "1050c7ec",
   "metadata": {},
   "outputs": [
    {
     "data": {
      "image/png": "[encoded data removed]",
      "text/plain": [
       "<Figure size 640x480 with 1 Axes>"
      ]
     },
     "metadata": {},
     "output_type": "display_data"
    }
   ],
   "source": [
    "fig, ax = plt.subplots()\n",
    "#ax = plt.subplot(3, 2, 1)\n",
    "plt.plot(d, E1)\n",
    "plt.plot(d, E2)\n",
    "ax.legend((r\"$E_1$\",r\"$E_2$\"),loc=\"upper right\")\n",
    "ax.set_ylabel(r\"$ E_1,~~ E_2$\", fontsize = 14)\n",
    "ax.set_xlabel('Time (s)')\n",
    "\n",
    "plt.grid(True)\n",
    "plt.show()"
   ]
  },
  {
   "attachments": {},
   "cell_type": "markdown",
   "id": "47f5cda5",
   "metadata": {},
   "source": [
    "## Graphs functions ($\\tau$, $q$, ($\\xi_{ee},\\eta_{ee})$)"
   ]
  },
  {
   "cell_type": "code",
   "execution_count": null,
   "id": "e7882725",
   "metadata": {},
   "outputs": [],
   "source": [
    "\n",
    "def graphs_qs(t_list, q_list):\n",
    "    fig, ax = plt.subplots()\n",
    "    plt.plot(t_list, q_list[:, :])\n",
    "    plt.grid(True)\n",
    "    ax.set_ylabel(r\"$q \\ [rad]$\", fontsize = 14)\n",
    "    ax.set_xlim(0, max(t_list))\n",
    "    ax.set_xlabel(r'\\textbf{Time (s)}')\n",
    "    ax.legend((r\"$q_0$\",r\"$q_1$\",r\"$q_2$\",r\"$q_3$\",r\"$q_4$\",r\"$q_5$\"),loc=\"upper right\")\n",
    "    fig.tight_layout()\n",
    "    plt.show()\n",
    "\n",
    "def graphs_taus(t, tau):\n",
    "    fig, ax = plt.subplots()\n",
    "    ax = plt.subplot(3, 2, 1)\n",
    "    plt.plot(t, tau[:, 0])\n",
    "    plt.grid(True)\n",
    "    ax.set_ylabel(r\"$\\tau_0 \\ [-]$\", fontsize = 14)\n",
    "    ax.set_xlim(0, max(t_list))\n",
    "    ax.set_xlabel(r'\\textbf{Time (s)}')\n",
    "    # ax.legend((r\"$q_0$\",r\"$q_{0d}$\"),loc=\"upper right\")\n",
    "    fig.tight_layout()\n",
    "\n",
    "    ax = plt.subplot(3, 2, 2)\n",
    "    plt.plot(t, tau[:, 1])\n",
    "    plt.grid(True)\n",
    "    ax.set_ylabel(r\"$\\tau_1 \\ [-]$\", fontsize = 14)\n",
    "    ax.set_xlim(0, max(t_list))\n",
    "    ax.set_xlabel(r'\\textbf{Time (s)}')\n",
    "    # ax.legend((r\"$q_0$\",r\"$q_{0d}$\"),loc=\"upper right\")\n",
    "    fig.tight_layout()\n",
    "\n",
    "    ax = plt.subplot(3, 2, 3)\n",
    "    plt.plot(t, tau[:, 2])\n",
    "    plt.grid(True)\n",
    "    ax.set_ylabel(r\"$\\tau_2 \\ [-]$\", fontsize = 14)\n",
    "    ax.set_xlim(0, max(t_list))\n",
    "    ax.set_xlabel(r'\\textbf{Time (s)}')\n",
    "    # ax.legend((r\"$q_0$\",r\"$q_{0d}$\"),loc=\"upper right\")\n",
    "    fig.tight_layout()\n",
    "\n",
    "    ax = plt.subplot(3, 2, 4)\n",
    "    plt.plot(t, tau[:, 3])\n",
    "    plt.grid(True)\n",
    "    ax.set_ylabel(r\"$\\tau_3 \\ [-]$\", fontsize = 14)\n",
    "    ax.set_xlim(0, max(t_list))\n",
    "    ax.set_xlabel(r'\\textbf{Time (s)}')\n",
    "    # ax.legend((r\"$q_0$\",r\"$q_{0d}$\"),loc=\"upper right\")\n",
    "    fig.tight_layout()\n",
    "\n",
    "    ax = plt.subplot(3, 2, 5)\n",
    "    plt.plot(t, tau[:, 4])\n",
    "    plt.grid(True)\n",
    "    ax.set_ylabel(r\"$\\tau_4 \\ [-]$\", fontsize = 14)\n",
    "    ax.set_xlim(0, max(t_list))\n",
    "    ax.set_xlabel(r'\\textbf{Time (s)}')\n",
    "    # ax.legend((r\"$q_0$\",r\"$q_{0d}$\"),loc=\"upper right\")\n",
    "    fig.tight_layout()\n",
    "\n",
    "    ax = plt.subplot(3, 2, 6)\n",
    "    plt.plot(t, tau[:, 5])\n",
    "    plt.grid(True)\n",
    "    ax.set_ylabel(r\"$\\tau_5 \\ [-]$\", fontsize = 14)\n",
    "    ax.set_xlim(0, max(t_list))\n",
    "    ax.set_xlabel(r'\\textbf{Time (s)}')\n",
    "    # ax.legend((r\"$q_0$\",r\"$q_{0d}$\"),loc=\"upper right\")\n",
    "    fig.tight_layout()\n",
    "\n",
    "    plt.show()\n",
    "\n",
    "def graphs_pose(t, pose, pose_des):\n",
    "    fig, ax = plt.subplots()\n",
    "    ax = plt.subplot(3, 1, 1)\n",
    "    plt.plot(t, pose[:, 0])\n",
    "    plt.plot(t, pose_des[:, 0],linestyle='--')\n",
    "    plt.grid(True)\n",
    "    ax.set_ylabel(r\"$x \\ [m]$\", fontsize = 14)\n",
    "    ax.set_xlim(0, max(t))\n",
    "    # ax.set_ylim(-0.95, 0.95)\n",
    "    ax.set_xlabel(r'\\textbf{Time (s)}')\n",
    "    ax.legend((r\"$x$\",r\"$x_{d}$\"),loc=\"upper right\")\n",
    "    fig.tight_layout()\n",
    "\n",
    "    ax = plt.subplot(3, 1, 2)\n",
    "    plt.plot(t, pose[:, 1])\n",
    "    plt.plot(t, pose_des[:, 1],linestyle='--')\n",
    "    plt.grid(True)\n",
    "    ax.set_ylabel(r\"$y \\ [m]$\", fontsize = 14)\n",
    "    ax.set_xlim(0, max(t))\n",
    "    # ax.set_ylim(-0.95, 0.95)\n",
    "    ax.set_xlabel(r'\\textbf{Time (s)}')\n",
    "    ax.legend((r\"$y$\",r\"$y_{d}$\"),loc=\"upper right\")\n",
    "    fig.tight_layout()\n",
    "\n",
    "    ax = plt.subplot(3, 1, 3)\n",
    "    plt.plot(t, pose[:, 2])\n",
    "    plt.plot(t, pose_des[:, 2],linestyle='--')\n",
    "    plt.grid(True)\n",
    "    ax.set_ylabel(r\"$z \\ [m]$\", fontsize = 14)\n",
    "    # ax.set_ylim(-0.95, 0.95)\n",
    "    ax.set_xlim(0, max(t))\n",
    "    ax.set_xlabel(r'\\textbf{Time (s)}')\n",
    "    ax.legend((r\"$z$\",r\"$z_{d}$\"),loc=\"upper right\")\n",
    "    fig.tight_layout()\n",
    "    plt.show()"
   ]
  },
  {
   "cell_type": "code",
   "execution_count": null,
   "id": "1a23b733",
   "metadata": {},
   "outputs": [],
   "source": [
    "graphs_qs(t_list, q_list)"
   ]
  },
  {
   "cell_type": "code",
   "execution_count": null,
   "id": "149f080d",
   "metadata": {},
   "outputs": [],
   "source": [
    "graphs_taus(t_list, u_list)"
   ]
  },
  {
   "cell_type": "code",
   "execution_count": null,
   "id": "a19119a1",
   "metadata": {},
   "outputs": [],
   "source": [
    "graphs_pose(t_list, pose_list, pose_des_list)"
   ]
  }
 ],
 "metadata": {
  "kernelspec": {
   "display_name": "Python 3 (ipykernel)",
   "language": "python",
   "name": "python3"
  },
  "language_info": {
   "codemirror_mode": {
    "name": "ipython",
    "version": 3
   },
   "file_extension": ".py",
   "mimetype": "text/x-python",
   "name": "python",
   "nbconvert_exporter": "python",
   "pygments_lexer": "ipython3",
   "version": "3.11.0"
  }
 },
 "nbformat": 4,
 "nbformat_minor": 5
}
