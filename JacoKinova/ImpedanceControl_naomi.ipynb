{
 "cells": [
  {
   "cell_type": "markdown",
   "id": "fce6a5d1",
   "metadata": {},
   "source": [
    "# Impedance control of a 6 dof manipulator"
   ]
  },
  {
   "cell_type": "markdown",
   "id": "59dce85c",
   "metadata": {},
   "source": [
    "## Import all the modules needed for the simulation"
   ]
  },
  {
   "cell_type": "code",
   "execution_count": 1,
   "id": "fcfb65a2",
   "metadata": {},
   "outputs": [
    {
     "name": "stderr",
     "output_type": "stream",
     "text": [
      "<frozen importlib._bootstrap>:219: RuntimeWarning: to-Python converter for boost::shared_ptr<hpp::fcl::CollisionGeometry> already registered; second conversion method ignored.\n"
     ]
    }
   ],
   "source": [
    "from pickle import GLOBAL\n",
    "import pinocchio as pin\n",
    "import numpy as np\n",
    "import sys\n",
    "import os\n",
    "from pinocchio.visualize import MeshcatVisualizer\n",
    "import time\n",
    "import math\n",
    "import matplotlib.pyplot as plt\n",
    "from numpy.linalg import norm, solve\n",
    "plt.rcParams['text.usetex'] = True"
   ]
  },
  {
   "cell_type": "markdown",
   "id": "43ee7e1c",
   "metadata": {},
   "source": [
    "## Bring the URDF model of the robot "
   ]
  },
  {
   "cell_type": "code",
   "execution_count": 2,
   "id": "63f1e41b",
   "metadata": {},
   "outputs": [],
   "source": [
    "pinocchio_model_dir = '/home/unknown/Documents/Posdoc/ModelsCads/urdf' \n",
    "mesh_dir = pinocchio_model_dir + '/kinova_description/meshes/'\n",
    "urdf_model_path =pinocchio_model_dir + '/j2s6s200_simple_naomi.urdf'\n",
    "model, collision_model, visual_model = pin.buildModelsFromUrdf(urdf_model_path, mesh_dir)\n",
    "# Choose of the visualizer\n",
    "viz = MeshcatVisualizer(model, collision_model, visual_model)"
   ]
  },
  {
   "cell_type": "markdown",
   "id": "68309b43",
   "metadata": {},
   "source": [
    "## Identify the frame and joint IDs"
   ]
  },
  {
   "cell_type": "code",
   "execution_count": 3,
   "id": "5b7a2daf",
   "metadata": {},
   "outputs": [],
   "source": [
    "frameIndex = model.getFrameId('j2s6s200_end_effector')\n",
    "jointIndex = model.frames[frameIndex].parent\n",
    "# Create data required by the algorithms\n",
    "data     = model.createData()"
   ]
  },
  {
   "cell_type": "markdown",
   "id": "ff57db47",
   "metadata": {},
   "source": [
    "# Function to plot matrices in matlab way"
   ]
  },
  {
   "cell_type": "code",
   "execution_count": 4,
   "id": "bff4a6a6",
   "metadata": {},
   "outputs": [],
   "source": [
    "def mprint(M, name=\"ans\",eps=1e-15):\n",
    "    '''\n",
    "    Matlab-style pretty matrix print.\n",
    "    '''\n",
    "    if isinstance(M, pin.SE3):\n",
    "        M = M.homogeneous\n",
    "    if len(M.shape) == 1:\n",
    "        M = np.expand_dims(M, axis=0)\n",
    "    ncol = M.shape[1]\n",
    "    NC = 6\n",
    "    print(name, \" = \")\n",
    "    print()\n",
    "\n",
    "    Mmin = lambda M: M.min()\n",
    "    Mmax = lambda M: M.max()\n",
    "    Mm = Mmin(abs(M[np.nonzero(M)]))\n",
    "    MM = Mmax(abs(M[np.nonzero(M)]))\n",
    "\n",
    "    fmt = \"% 10.4f\" if Mm < 1e-5 or MM > 1e6 or MM / Mm > 1e3 else \"% 1.5f\"\n",
    "    for i in range(math.floor((ncol - 1) / NC + 1)):\n",
    "        cmin = i * 6\n",
    "        cmax = (i + 1) * 6\n",
    "        cmax = ncol if ncol < cmax else cmax\n",
    "        print(\"Columns %s through %s\" % (cmin, cmax - 1))\n",
    "        print()\n",
    "        for r in range(M.shape[0]):\n",
    "            sys.stdout.write(\"  \")\n",
    "            for c in range(cmin, cmax):\n",
    "                if abs(M[r,c])>eps: sys.stdout.write(fmt % M[r,c]  + \"   \")\n",
    "                else: sys.stdout.write(\" 0\"+\" \"*9)\n",
    "            print()\n",
    "        print()"
   ]
  },
  {
   "cell_type": "markdown",
   "id": "9eb8c009",
   "metadata": {},
   "source": [
    "## Initialize the viewer"
   ]
  },
  {
   "cell_type": "code",
   "execution_count": 5,
   "id": "d1293b18",
   "metadata": {},
   "outputs": [
    {
     "name": "stdout",
     "output_type": "stream",
     "text": [
      "You can open the visualizer by visiting the following URL:\n",
      "http://127.0.0.1:7001/static/\n"
     ]
    }
   ],
   "source": [
    "try:\n",
    "    viz.initViewer()\n",
    "except ImportError as err:\n",
    "    print(\"Error while initializing the viewer. It seems you should install gepetto-viewer\")\n",
    "    print(err)\n",
    "    sys.exit(0)\n",
    "\n",
    "try:\n",
    "    viz.loadViewerModel(\"pinocchio\")\n",
    "except AttributeError as err:\n",
    "    print(\"Error while loading the viewer model. It seems you should start gepetto-viewer\")\n",
    "    print(err)\n",
    "    sys.exit(0)\n",
    "viz.viewer['world'].set_transform(np.array(pin.XYZQUATToSE3([0, 0, 0, 0, 0, 1, 0])))"
   ]
  },
  {
   "cell_type": "markdown",
   "id": "454c4881",
   "metadata": {},
   "source": [
    "# Simulation\n"
   ]
  },
  {
   "cell_type": "markdown",
   "id": "d98495fd",
   "metadata": {},
   "source": [
    "## Manipulator dynamic model"
   ]
  },
  {
   "cell_type": "markdown",
   "id": "ade1c58c",
   "metadata": {},
   "source": [
    "\\begin{equation}\n",
    "\\mathbf{\n",
    "M(q)\\ddot{q} + C(q,\\dot{q})\\dot{q} + g(q) = \\tau + J(q)^T F_{ext}}\n",
    "\\label{eq:01}\n",
    "\\end{equation}"
   ]
  },
  {
   "cell_type": "markdown",
   "id": "60175c1b",
   "metadata": {},
   "source": [
    "### Desired interaction model "
   ]
  },
  {
   "cell_type": "markdown",
   "id": "80ec32b3",
   "metadata": {},
   "source": [
    "\\begin{equation}\n",
    "\\mathbf{\n",
    "M_d\\ddot{x} + D_d\\dot{x} = \\hat{F}_e}\n",
    "\\label{eq:13}\n",
    "\\end{equation}"
   ]
  },
  {
   "cell_type": "markdown",
   "id": "1d2ed333",
   "metadata": {},
   "source": [
    "### The closed loop control law $\\tau$ can be written "
   ]
  },
  {
   "cell_type": "markdown",
   "id": "4a721fbd",
   "metadata": {},
   "source": [
    "\\begin{equation}\n",
    "\\mathbf{\\tau} = -\\mathbf{J^T} \\mathbf{\\Lambda}[\\mathbf{\\dot{J}}\\mathbf{\\dot{q}} + \\mathbf{M_d^{-1}}(\\mathbf{D_d}\\mathbf{\\dot{x}}  - \\mathbf{\\hat{F}_{ext}})] +  \\mathbf{g(q)} + \\mathbf{C(q,\\dot{q})}\n",
    "\\end{equation}\n",
    "where\n",
    "\\begin{equation}\n",
    " \\mathbf{\\Lambda} =  (\\mathbf{JM^{-1}J^T)^{-1}}\n",
    "\\end{equation}"
   ]
  },
  {
   "cell_type": "markdown",
   "id": "162d0cdf",
   "metadata": {},
   "source": [
    "## Control and simulation parameters"
   ]
  },
  {
   "cell_type": "code",
   "execution_count": 6,
   "id": "0a73e884",
   "metadata": {},
   "outputs": [],
   "source": [
    "# Sample a random configuration\n",
    "q =np.array([0, 2.9, 1.3, -2.07, 1.4,0]) # Natural position as in the real case\n",
    "qdot = pin.utils.zero(model.nv) # this is the angular velocity\n",
    "a = pin.utils.zero(model.nv) # angular acceleration\n",
    "\n",
    "pin.forwardKinematics(model,data,q)\n",
    "pin.updateFramePlacements(model,data) #Computes the placement of all the joints\n",
    "oMdes = data.oMf[model.getFrameId(\"j2s6s200_end_effector\")] # I took the desired pose as the actual one\n",
    "# This is the pose of the end-effector refered in the frame of the base\n",
    "\n",
    "## External forces\n",
    "fx = -2; fy=0; fz=0; nx =0; ny=0; nz=0\n",
    "fext = []\n",
    "\n",
    "wrench = np.array([fx,fy,fz,nx,ny,nz])\n",
    "wrench_ = pin.Force.Zero()\n",
    "wrench_.linear = np.array([fx,fy,fz])\n",
    "wrench_.angular = np.array([nx,ny,nz])\n",
    "\n",
    "for k in range(model.njoints):\n",
    "    faux = pin.Force.Zero()\n",
    "    if k == (model.njoints-1):\n",
    "        faux.linear = wrench_.linear\n",
    "        faux.angular =wrench_.angular\n",
    "    fext.append(faux)\n",
    "\n",
    "d1 =20; d2 =20;  d3 =20; d4 =0.85; d5 =0.85;  d6 =0.85\n",
    "ds = np.array([d1, d2, d3, d4, d5, d6])\n",
    "Dd = np.diag(ds) #  Damper Matrix\n",
    "\n",
    "md1 =10; md2 =10;  md3 =10; md4 =0.21; md5 =0.21;  md6 =0.21\n",
    "mds = np.array([md1, md2, md3, md4, md5, md6])\n",
    "Md = np.diag(mds) # Mass Matrix\n",
    "\n",
    "# for runing the simulation\n",
    "t = 0\n",
    "dt = 1e-2\n",
    "T = 5\n",
    "N = math.floor(T/dt) \n",
    "# for graphs\n",
    "t_list = []\n",
    "u_list = []\n",
    "q_list = [] #q\n",
    "pose_list = []\n",
    "pose_des_list = []\n",
    "    "
   ]
  },
  {
   "cell_type": "markdown",
   "id": "c6b19ab9",
   "metadata": {},
   "source": [
    "## Run simulation "
   ]
  },
  {
   "cell_type": "code",
   "execution_count": 7,
   "id": "32feca9a",
   "metadata": {},
   "outputs": [],
   "source": [
    "## for runing the simulation\n",
    "for k in range(N):\n",
    "    t += dt\n",
    "    tic = time.time()\n",
    "\n",
    "    pin.forwardKinematics(model,data,q)\n",
    "    pin.updateFramePlacements(model,data)\n",
    "    OM_act = data.oMf[frameIndex] # This is the pose of the end-effector refered in the frame of the base\n",
    "\n",
    "    pin.computeJointJacobians(model, data, q)\n",
    "    J=pin.getFrameJacobian(model,data,frameIndex,pin.LOCAL_WORLD_ALIGNED) #Jacobian in the frame of the base\n",
    "    dJ = pin.computeJointJacobiansTimeVariation(model,data,q,qdot) # Derivative of the Jacobian\n",
    "    xdot = J@qdot\n",
    "    velerror = -xdot\n",
    "    # Compute torque control\n",
    "    u = Dd@velerror + wrench\n",
    "    a =  J.T@(dJ@qdot+np.linalg.pinv(Md)@u)\n",
    "    tau = pin.rnea(model, data, q, qdot, a, fext)\n",
    "    # Compute forward dynamics\n",
    "    qddot = pin.aba(model, data, q, qdot, tau, fext)\n",
    "\n",
    "    qdot += a * dt\n",
    "    q = pin.integrate(model,q,qdot*dt)\n",
    "\n",
    "    pos = np.array([OM_act.translation[0],OM_act.translation[1],OM_act.translation[2]])\n",
    "    viz.display(q)\n",
    "    q_list.append(q)\n",
    "    pose_list.append(pos)\n",
    "    pose_des_list.append(oMdes.translation)\n",
    "    t_list.append(t)\n",
    "    u_list.append(a)\n",
    "\n",
    "    toc = time.time()\n",
    "    ellapsed = toc - tic\n",
    "    dt_sleep = max(0,dt - (ellapsed))\n",
    "    time.sleep(dt_sleep)\n",
    "        \n",
    "t_list = np.array(t_list)\n",
    "u_list = np.array(u_list)\n",
    "q_list = np.array(q_list)\n",
    "pose_list = np.array(pose_list)\n",
    "pose_des_list = np.array(pose_des_list)"
   ]
  },
  {
   "cell_type": "code",
   "execution_count": 8,
   "id": "d6bdc28b",
   "metadata": {
    "scrolled": false
   },
   "outputs": [
    {
     "data": {
      "text/html": [
       "\n",
       "            <div style=\"height: 400px; width: 100%; overflow-x: auto; overflow-y: hidden; resize: both\">\n",
       "            <iframe src=\"http://127.0.0.1:7001/static/\" style=\"width: 100%; height: 100%; border: none\"></iframe>\n",
       "            </div>\n",
       "            "
      ],
      "text/plain": [
       "<IPython.core.display.HTML object>"
      ]
     },
     "execution_count": 8,
     "metadata": {},
     "output_type": "execute_result"
    }
   ],
   "source": [
    "isinstance(viz, pin.visualize.MeshcatVisualizer) and viz.viewer.jupyter_cell()"
   ]
  },
  {
   "cell_type": "markdown",
   "id": "22f73473",
   "metadata": {},
   "source": [
    "## Graphs functions ($\\tau$, $q$, ($\\xi_{ee},\\eta_{ee})$)"
   ]
  },
  {
   "cell_type": "code",
   "execution_count": 9,
   "id": "2697844f",
   "metadata": {},
   "outputs": [],
   "source": [
    "\n",
    "def graphs_qs(t_list, q_list):\n",
    "    fig, ax = plt.subplots()\n",
    "    plt.plot(t_list, q_list[:, :])\n",
    "    plt.grid(True)\n",
    "    ax.set_ylabel(r\"$q \\ [rad]$\", fontsize = 14)\n",
    "    ax.set_xlim(0, max(t_list))\n",
    "    ax.set_xlabel(r'\\textbf{Time (s)}')\n",
    "    ax.legend((r\"$q_0$\",r\"$q_1$\",r\"$q_2$\",r\"$q_3$\",r\"$q_4$\",r\"$q_5$\"),loc=\"upper right\")\n",
    "    fig.tight_layout()\n",
    "    plt.show()\n",
    "\n",
    "def graphs_taus(t, tau):\n",
    "    fig, ax = plt.subplots()\n",
    "    ax = plt.subplot(3, 2, 1)\n",
    "    plt.plot(t, tau[:, 0])\n",
    "    plt.grid(True)\n",
    "    ax.set_ylabel(r\"$\\tau_0 \\ [-]$\", fontsize = 14)\n",
    "    ax.set_xlim(0, max(t_list))\n",
    "    ax.set_xlabel(r'\\textbf{Time (s)}')\n",
    "    # ax.legend((r\"$q_0$\",r\"$q_{0d}$\"),loc=\"upper right\")\n",
    "    fig.tight_layout()\n",
    "\n",
    "    ax = plt.subplot(3, 2, 2)\n",
    "    plt.plot(t, tau[:, 1])\n",
    "    plt.grid(True)\n",
    "    ax.set_ylabel(r\"$\\tau_1 \\ [-]$\", fontsize = 14)\n",
    "    ax.set_xlim(0, max(t_list))\n",
    "    ax.set_xlabel(r'\\textbf{Time (s)}')\n",
    "    # ax.legend((r\"$q_0$\",r\"$q_{0d}$\"),loc=\"upper right\")\n",
    "    fig.tight_layout()\n",
    "\n",
    "    ax = plt.subplot(3, 2, 3)\n",
    "    plt.plot(t, tau[:, 2])\n",
    "    plt.grid(True)\n",
    "    ax.set_ylabel(r\"$\\tau_2 \\ [-]$\", fontsize = 14)\n",
    "    ax.set_xlim(0, max(t_list))\n",
    "    ax.set_xlabel(r'\\textbf{Time (s)}')\n",
    "    # ax.legend((r\"$q_0$\",r\"$q_{0d}$\"),loc=\"upper right\")\n",
    "    fig.tight_layout()\n",
    "\n",
    "    ax = plt.subplot(3, 2, 4)\n",
    "    plt.plot(t, tau[:, 3])\n",
    "    plt.grid(True)\n",
    "    ax.set_ylabel(r\"$\\tau_3 \\ [-]$\", fontsize = 14)\n",
    "    ax.set_xlim(0, max(t_list))\n",
    "    ax.set_xlabel(r'\\textbf{Time (s)}')\n",
    "    # ax.legend((r\"$q_0$\",r\"$q_{0d}$\"),loc=\"upper right\")\n",
    "    fig.tight_layout()\n",
    "\n",
    "    ax = plt.subplot(3, 2, 5)\n",
    "    plt.plot(t, tau[:, 4])\n",
    "    plt.grid(True)\n",
    "    ax.set_ylabel(r\"$\\tau_4 \\ [-]$\", fontsize = 14)\n",
    "    ax.set_xlim(0, max(t_list))\n",
    "    ax.set_xlabel(r'\\textbf{Time (s)}')\n",
    "    # ax.legend((r\"$q_0$\",r\"$q_{0d}$\"),loc=\"upper right\")\n",
    "    fig.tight_layout()\n",
    "\n",
    "    ax = plt.subplot(3, 2, 6)\n",
    "    plt.plot(t, tau[:, 5])\n",
    "    plt.grid(True)\n",
    "    ax.set_ylabel(r\"$\\tau_5 \\ [-]$\", fontsize = 14)\n",
    "    ax.set_xlim(0, max(t_list))\n",
    "    ax.set_xlabel(r'\\textbf{Time (s)}')\n",
    "    # ax.legend((r\"$q_0$\",r\"$q_{0d}$\"),loc=\"upper right\")\n",
    "    fig.tight_layout()\n",
    "\n",
    "    plt.show()\n",
    "\n",
    "def graphs_pose(t, pose, pose_des):\n",
    "    fig, ax = plt.subplots()\n",
    "    ax = plt.subplot(3, 1, 1)\n",
    "    plt.plot(t, pose[:, 0])\n",
    "    plt.plot(t, pose_des[:, 0],linestyle='--')\n",
    "    plt.grid(True)\n",
    "    ax.set_ylabel(r\"$x \\ [m]$\", fontsize = 14)\n",
    "    ax.set_xlim(0, max(t))\n",
    "    ax.set_ylim(-0.5, 0.5)\n",
    "    ax.set_xlabel(r'\\textbf{Time (s)}')\n",
    "    ax.legend((r\"$x$\",r\"$x_{d}$\"),loc=\"upper right\")\n",
    "    fig.tight_layout()\n",
    "\n",
    "    ax = plt.subplot(3, 1, 2)\n",
    "    plt.plot(t, pose[:, 1])\n",
    "    plt.plot(t, pose_des[:, 1],linestyle='--')\n",
    "    plt.grid(True)\n",
    "    ax.set_ylabel(r\"$y \\ [m]$\", fontsize = 14)\n",
    "    ax.set_xlim(0, max(t))\n",
    "    ax.set_ylim(-0.5, 0.5)\n",
    "    ax.set_xlabel(r'\\textbf{Time (s)}')\n",
    "    ax.legend((r\"$y$\",r\"$y_{d}$\"),loc=\"upper right\")\n",
    "    fig.tight_layout()\n",
    "\n",
    "    ax = plt.subplot(3, 1, 3)\n",
    "    plt.plot(t, pose[:, 2])\n",
    "    plt.plot(t, pose_des[:, 2],linestyle='--')\n",
    "    plt.grid(True)\n",
    "    ax.set_ylabel(r\"$z \\ [m]$\", fontsize = 14)\n",
    "    ax.set_ylim(0, 0.9)\n",
    "    ax.set_xlim(0, max(t))\n",
    "    ax.set_xlabel(r'\\textbf{Time (s)}')\n",
    "    ax.legend((r\"$z$\",r\"$z_{d}$\"),loc=\"upper right\")\n",
    "    fig.tight_layout()\n",
    "    plt.show()"
   ]
  },
  {
   "cell_type": "code",
   "execution_count": 10,
   "id": "1a23b733",
   "metadata": {},
   "outputs": [
    {
     "data": {
      "image/png": "[encoded data removed]",
      "text/plain": [
       "<Figure size 432x288 with 1 Axes>"
      ]
     },
     "metadata": {
      "needs_background": "light"
     },
     "output_type": "display_data"
    }
   ],
   "source": [
    "graphs_qs(t_list, q_list)"
   ]
  },
  {
   "cell_type": "code",
   "execution_count": 11,
   "id": "149f080d",
   "metadata": {},
   "outputs": [
    {
     "data": {
      "image/png": "[encoded data removed]",
      "text/plain": [
       "<Figure size 432x288 with 6 Axes>"
      ]
     },
     "metadata": {
      "needs_background": "light"
     },
     "output_type": "display_data"
    }
   ],
   "source": [
    "graphs_taus(t_list, u_list)"
   ]
  },
  {
   "cell_type": "code",
   "execution_count": 12,
   "id": "a19119a1",
   "metadata": {},
   "outputs": [
    {
     "data": {
      "image/png": "[encoded data removed]",
      "text/plain": [
       "<Figure size 432x288 with 3 Axes>"
      ]
     },
     "metadata": {
      "needs_background": "light"
     },
     "output_type": "display_data"
    }
   ],
   "source": [
    "graphs_pose(t_list, pose_list, pose_des_list)"
   ]
  }
 ],
 "metadata": {
  "kernelspec": {
   "display_name": "Python 3 (ipykernel)",
   "language": "python",
   "name": "python3"
  },
  "language_info": {
   "codemirror_mode": {
    "name": "ipython",
    "version": 3
   },
   "file_extension": ".py",
   "mimetype": "text/x-python",
   "name": "python",
   "nbconvert_exporter": "python",
   "pygments_lexer": "ipython3",
   "version": "3.11.0"
  }
 },
 "nbformat": 4,
 "nbformat_minor": 5
}
