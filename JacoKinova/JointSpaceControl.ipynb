{
 "cells": [
  {
   "cell_type": "markdown",
   "id": "fce6a5d1",
   "metadata": {},
   "source": [
    "# Task-Space Control of a 6 dof manipulator"
   ]
  },
  {
   "cell_type": "markdown",
   "id": "59dce85c",
   "metadata": {},
   "source": [
    "## Imort all the modules needed for the simulation"
   ]
  },
  {
   "cell_type": "code",
   "execution_count": 3,
   "id": "fcfb65a2",
   "metadata": {},
   "outputs": [],
   "source": [
    "from pickle import GLOBAL\n",
    "import pinocchio as pin\n",
    "import numpy as np\n",
    "import sys\n",
    "import os\n",
    "from os.path import dirname, join, abspath\n",
    "from pinocchio.visualize import MeshcatVisualizer\n",
    "import time\n",
    "import math\n",
    "import meshcat\n",
    "import matplotlib.pyplot as plt\n",
    "from numpy.linalg import norm, solve\n",
    "from scipy.spatial.transform import Rotation\n",
    "import meshcat.transformations as tf\n",
    "import meshcat.geometry as g\n",
    "from numpy.linalg import inv,pinv,eig,norm,svd,det\n",
    "plt.rcParams['text.usetex'] = True"
   ]
  },
  {
   "cell_type": "markdown",
   "id": "4424bdca",
   "metadata": {},
   "source": [
    "## Meshcat functions"
   ]
  },
  {
   "cell_type": "code",
   "execution_count": 4,
   "id": "1b7a8c0f",
   "metadata": {},
   "outputs": [],
   "source": [
    "def meshcat_material(r, g, b, a):\n",
    "    import meshcat\n",
    "\n",
    "    material = meshcat.geometry.MeshPhongMaterial()\n",
    "    material.color = int(r * 255) * 256 ** 2 + int(g * 255) * 256 + int(b * 255)\n",
    "    material.opacity = a\n",
    "    return material\n"
   ]
  },
  {
   "cell_type": "markdown",
   "id": "43ee7e1c",
   "metadata": {},
   "source": [
    "## Bring the URDF model of the robot "
   ]
  },
  {
   "cell_type": "code",
   "execution_count": 5,
   "id": "63f1e41b",
   "metadata": {},
   "outputs": [],
   "source": [
    "pinocchio_model_dir = '/home/unknown/Documents/Posdoc/ModelsCads/urdf' \n",
    "mesh_dir = pinocchio_model_dir + '/kinova_description/meshes/'\n",
    "urdf_model_path =pinocchio_model_dir + '/j2s6s200_simple.urdf'\n",
    "model, collision_model, visual_model = pin.buildModelsFromUrdf(urdf_model_path, mesh_dir)\n",
    "# Choose of the visualizer\n",
    "viz = MeshcatVisualizer(model, collision_model, visual_model)"
   ]
  },
  {
   "cell_type": "markdown",
   "id": "68309b43",
   "metadata": {},
   "source": [
    "## Identify the frame and joint IDs"
   ]
  },
  {
   "cell_type": "code",
   "execution_count": 6,
   "id": "5b7a2daf",
   "metadata": {},
   "outputs": [],
   "source": [
    "frameIndex = model.getFrameId('j2s6s200_end_effector')\n",
    "jointIndex = model.frames[frameIndex].parent"
   ]
  },
  {
   "cell_type": "code",
   "execution_count": 5,
   "id": "3756dd07",
   "metadata": {},
   "outputs": [
    {
     "name": "stdout",
     "output_type": "stream",
     "text": [
      "model name 6\n"
     ]
    }
   ],
   "source": [
    "print('model name', model.nq)"
   ]
  },
  {
   "cell_type": "markdown",
   "id": "9eb8c009",
   "metadata": {},
   "source": [
    "## Initialize the viewer"
   ]
  },
  {
   "cell_type": "code",
   "execution_count": 7,
   "id": "d1293b18",
   "metadata": {},
   "outputs": [
    {
     "name": "stdout",
     "output_type": "stream",
     "text": [
      "You can open the visualizer by visiting the following URL:\n",
      "http://127.0.0.1:7001/static/\n"
     ]
    }
   ],
   "source": [
    "try:\n",
    "    viz.initViewer()\n",
    "except ImportError as err:\n",
    "    print(\"Error while initializing the viewer. It seems you should install gepetto-viewer\")\n",
    "    print(err)\n",
    "    sys.exit(0)\n",
    "\n",
    "try:\n",
    "    viz.loadViewerModel(\"pinocchio\")\n",
    "except AttributeError as err:\n",
    "    print(\"Error while loading the viewer model. It seems you should start gepetto-viewer\")\n",
    "    print(err)\n",
    "    sys.exit(0)\n",
    "viz.viewer['world'].set_transform(np.array(pin.XYZQUATToSE3([0, 0, 0, 0, 0, 1, 0])))"
   ]
  },
  {
   "cell_type": "markdown",
   "id": "db5ff282",
   "metadata": {},
   "source": [
    "## Manipulator dynamic model"
   ]
  },
  {
   "attachments": {},
   "cell_type": "markdown",
   "id": "d8dbdf11",
   "metadata": {},
   "source": [
    "\\begin{equation}\n",
    "\\mathbf{\n",
    "M(q)\\ddot{q} + C(q,\\dot{q})\\dot{q} + g(q) = \\tau }\n",
    "\\end{equation}"
   ]
  },
  {
   "cell_type": "markdown",
   "id": "c48aa80d",
   "metadata": {},
   "source": [
    "### The closed loop control law $\\tau$ can be written "
   ]
  },
  {
   "cell_type": "markdown",
   "id": "67f7ec06",
   "metadata": {},
   "source": [
    "\\begin{equation}\n",
    "\\mathbf{\n",
    "{\\tau} = M(q)u +  g(q) + C(q,\\dot{q})}\n",
    "\\end{equation}\n",
    "where\n",
    "\\begin{equation}\n",
    "\\mathbf{\n",
    "u = -K_d \\dot{q} + K_p (q_{des} - q) }\n",
    "\\end{equation} "
   ]
  },
  {
   "cell_type": "markdown",
   "id": "c6b19ab9",
   "metadata": {},
   "source": [
    "## Simulation function"
   ]
  },
  {
   "cell_type": "code",
   "execution_count": 40,
   "id": "32feca9a",
   "metadata": {},
   "outputs": [],
   "source": [
    "def run_robot():\n",
    "    \n",
    "    # Create data required by the algorithms\n",
    "    data = model.createData()\n",
    "\n",
    "    # Sample a random configuration \n",
    "    q =np.array([0, 2.3, 1.3, np.pi, 1.2,0])\n",
    "    qdot = pin.utils.zero(model.nv) # this is the angular velocity \n",
    "    a = pin.utils.zero(model.nv)\n",
    "\n",
    "    pin.forwardKinematics(model,data,q)\n",
    "    pin.updateFramePlacements(model,data) #Computes the placement of all the joints\n",
    "    \n",
    "    qd =np.array([0, 2.3, 1.3, np.pi, 1.2,0])\n",
    "    # Control variables\n",
    "    nuvs = 5\n",
    "    kvs = np.array([nuvs, nuvs, nuvs, nuvs, nuvs, nuvs])\n",
    "    Kv = np.diag(kvs)\n",
    "\n",
    "    luvs = 7\n",
    "    kps = np.array([luvs, luvs, luvs,luvs, luvs, luvs])\n",
    "    Kp = np.diag(kps)\n",
    "\n",
    "    t = 0\n",
    "    dt = 1e-2\n",
    "    T = 2\n",
    "    N = math.floor(T/dt)\n",
    "    \n",
    "    # for graphs\n",
    "    t_list = []\n",
    "    u_list = []    \n",
    "    q_list = [] #q\n",
    "    qdot_list = [] #qdot\n",
    "    pose_list = []\n",
    "    pose_des_list = []\n",
    "    \n",
    "    # This is the desired orientation and pose. The static pose is -0.1643, 0.21839, 0.5414\n",
    "    #oMdes = pin.SE3(OM_act.rotation,np.array([-0.1643, 0.51839, 0.5414])) \n",
    "    #viz.viewer['world/ball'].set_object(g.Sphere(0.03),\n",
    "    #                                meshcat_material(*[0.5, 0.5,0.1, .5]))\n",
    "    #viz.viewer['world/ball'].set_transform(tf.translation_matrix([oMdes.translation[0]*-1, \n",
    "    #                                                              oMdes.translation[1]*-1, oMdes.translation[2]]))\n",
    "    for k in range(N):\n",
    "        t += dt\n",
    "        tic = time.time()\n",
    "        AttError = q-qd\n",
    "        \n",
    "        # Compute torque control\n",
    "        a = -Kp@AttError - Kv@qdot\n",
    "        tau = pin.rnea(model, data, q, qdot, a)\n",
    "\n",
    "        # Compute forward dynamics\n",
    "        qddot = pin.aba(model, data, q, qdot, tau)\n",
    "\n",
    "        qdot = qdot + qddot*dt \n",
    "        q = pin.integrate(model,q,qdot*dt)\n",
    "\n",
    "        # Show model with a visualizer of your choice\n",
    "        viz.display(q)\n",
    "        q_list.append(q)\n",
    "        t_list.append(t)\n",
    "        u_list.append(tau)\n",
    "        qdot_list.append(qdot)\n",
    "\n",
    "        toc = time.time() \n",
    "        ellapsed = toc - tic\n",
    "        dt_sleep = max(0,dt - (ellapsed))\n",
    "        time.sleep(dt_sleep)\n",
    "\n",
    "    t_list = np.array(t_list)\n",
    "    u_list = np.array(u_list)\n",
    "    q_list = np.array(q_list)\n",
    "    qdot_list = np.array(qdot_list)\n",
    "    \n",
    "\n",
    "    return t_list, u_list, q_list, qdot_list\n",
    "\n",
    "\n"
   ]
  },
  {
   "cell_type": "markdown",
   "id": "22f73473",
   "metadata": {},
   "source": [
    "## Graphs functions ($\\tau$, $q$, ($\\xi_{ee},\\eta_{ee})$)"
   ]
  },
  {
   "cell_type": "code",
   "execution_count": 8,
   "id": "2697844f",
   "metadata": {},
   "outputs": [],
   "source": [
    "\n",
    "def graphs_qs(t_list, q_list):\n",
    "    fig, ax = plt.subplots()\n",
    "    plt.plot(t_list, q_list[:, :])\n",
    "    plt.grid(True)\n",
    "    ax.set_ylabel(r\"$q \\ [rad]$\", fontsize = 14)\n",
    "    ax.set_xlim(0, max(t_list))\n",
    "    ax.set_xlabel(r'\\textbf{Time (s)}')\n",
    "    ax.legend((r\"$q_0$\",r\"$q_1$\",r\"$q_2$\",r\"$q_3$\",r\"$q_4$\",r\"$q_5$\"),loc=\"upper right\")\n",
    "    fig.tight_layout()\n",
    "    plt.show()\n",
    "\n",
    "def graphs_taus(t, tau):\n",
    "    fig, ax = plt.subplots()\n",
    "    ax = plt.subplot(3, 2, 1)\n",
    "    plt.plot(t, tau[:, 0])\n",
    "    plt.grid(True)\n",
    "    ax.set_ylabel(r\"$\\tau_0 \\ [-]$\", fontsize = 14)\n",
    "    ax.set_xlim(0, max(t_list))\n",
    "    ax.set_xlabel(r'\\textbf{Time (s)}')\n",
    "    # ax.legend((r\"$q_0$\",r\"$q_{0d}$\"),loc=\"upper right\")\n",
    "    fig.tight_layout()\n",
    "\n",
    "    ax = plt.subplot(3, 2, 2)\n",
    "    plt.plot(t, tau[:, 1])\n",
    "    plt.grid(True)\n",
    "    ax.set_ylabel(r\"$\\tau_1 \\ [-]$\", fontsize = 14)\n",
    "    ax.set_xlim(0, max(t_list))\n",
    "    ax.set_xlabel(r'\\textbf{Time (s)}')\n",
    "    # ax.legend((r\"$q_0$\",r\"$q_{0d}$\"),loc=\"upper right\")\n",
    "    fig.tight_layout()\n",
    "\n",
    "    ax = plt.subplot(3, 2, 3)\n",
    "    plt.plot(t, tau[:, 2])\n",
    "    plt.grid(True)\n",
    "    ax.set_ylabel(r\"$\\tau_2 \\ [-]$\", fontsize = 14)\n",
    "    ax.set_xlim(0, max(t_list))\n",
    "    ax.set_xlabel(r'\\textbf{Time (s)}')\n",
    "    # ax.legend((r\"$q_0$\",r\"$q_{0d}$\"),loc=\"upper right\")\n",
    "    fig.tight_layout()\n",
    "\n",
    "    ax = plt.subplot(3, 2, 4)\n",
    "    plt.plot(t, tau[:, 3])\n",
    "    plt.grid(True)\n",
    "    ax.set_ylabel(r\"$\\tau_3 \\ [-]$\", fontsize = 14)\n",
    "    ax.set_xlim(0, max(t_list))\n",
    "    ax.set_xlabel(r'\\textbf{Time (s)}')\n",
    "    # ax.legend((r\"$q_0$\",r\"$q_{0d}$\"),loc=\"upper right\")\n",
    "    fig.tight_layout()\n",
    "\n",
    "    ax = plt.subplot(3, 2, 5)\n",
    "    plt.plot(t, tau[:, 4])\n",
    "    plt.grid(True)\n",
    "    ax.set_ylabel(r\"$\\tau_4 \\ [-]$\", fontsize = 14)\n",
    "    ax.set_xlim(0, max(t_list))\n",
    "    ax.set_xlabel(r'\\textbf{Time (s)}')\n",
    "    # ax.legend((r\"$q_0$\",r\"$q_{0d}$\"),loc=\"upper right\")\n",
    "    fig.tight_layout()\n",
    "\n",
    "    ax = plt.subplot(3, 2, 6)\n",
    "    plt.plot(t, tau[:, 5])\n",
    "    plt.grid(True)\n",
    "    ax.set_ylabel(r\"$\\tau_5 \\ [-]$\", fontsize = 14)\n",
    "    ax.set_xlim(0, max(t_list))\n",
    "    ax.set_xlabel(r'\\textbf{Time (s)}')\n",
    "    # ax.legend((r\"$q_0$\",r\"$q_{0d}$\"),loc=\"upper right\")\n",
    "    fig.tight_layout()\n",
    "\n",
    "    plt.show()\n",
    "\n",
    "def graphs_pose(t, pose, pose_des):\n",
    "    fig, ax = plt.subplots()\n",
    "    ax = plt.subplot(3, 1, 1)\n",
    "    plt.plot(t, pose[:, 0])\n",
    "    plt.plot(t, pose_des[:, 0],linestyle='--')\n",
    "    plt.grid(True)\n",
    "    ax.set_ylabel(r\"$x \\ [m]$\", fontsize = 14)\n",
    "    ax.set_xlim(0, max(t))\n",
    "    # ax.set_ylim(-0.95, 0.95)\n",
    "    ax.set_xlabel(r'\\textbf{Time (s)}')\n",
    "    ax.legend((r\"$x$\",r\"$x_{d}$\"),loc=\"upper right\")\n",
    "    fig.tight_layout()\n",
    "\n",
    "    ax = plt.subplot(3, 1, 2)\n",
    "    plt.plot(t, pose[:, 1])\n",
    "    plt.plot(t, pose_des[:, 1],linestyle='--')\n",
    "    plt.grid(True)\n",
    "    ax.set_ylabel(r\"$y \\ [m]$\", fontsize = 14)\n",
    "    ax.set_xlim(0, max(t))\n",
    "    # ax.set_ylim(-0.95, 0.95)\n",
    "    ax.set_xlabel(r'\\textbf{Time (s)}')\n",
    "    ax.legend((r\"$y$\",r\"$y_{d}$\"),loc=\"upper right\")\n",
    "    fig.tight_layout()\n",
    "\n",
    "    ax = plt.subplot(3, 1, 3)\n",
    "    plt.plot(t, pose[:, 2])\n",
    "    plt.plot(t, pose_des[:, 2],linestyle='--')\n",
    "    plt.grid(True)\n",
    "    ax.set_ylabel(r\"$z \\ [m]$\", fontsize = 14)\n",
    "    # ax.set_ylim(-0.95, 0.95)\n",
    "    ax.set_xlim(0, max(t))\n",
    "    ax.set_xlabel(r'\\textbf{Time (s)}')\n",
    "    ax.legend((r\"$z$\",r\"$z_{d}$\"),loc=\"upper right\")\n",
    "    fig.tight_layout()\n",
    "    plt.show()"
   ]
  },
  {
   "cell_type": "code",
   "execution_count": 12,
   "id": "d6bdc28b",
   "metadata": {
    "scrolled": false
   },
   "outputs": [
    {
     "data": {
      "text/html": [
       "\n",
       "            <div style=\"height: 400px; width: 100%; overflow-x: auto; overflow-y: hidden; resize: both\">\n",
       "            <iframe src=\"http://127.0.0.1:7001/static/\" style=\"width: 100%; height: 100%; border: none\"></iframe>\n",
       "            </div>\n",
       "            "
      ],
      "text/plain": [
       "<IPython.core.display.HTML object>"
      ]
     },
     "execution_count": 12,
     "metadata": {},
     "output_type": "execute_result"
    }
   ],
   "source": [
    "isinstance(viz, pin.visualize.MeshcatVisualizer) and viz.viewer.jupyter_cell()"
   ]
  },
  {
   "cell_type": "code",
   "execution_count": 41,
   "id": "777635ed",
   "metadata": {},
   "outputs": [],
   "source": [
    "t_list, u_list, q_list, qdot_list = run_robot()"
   ]
  },
  {
   "cell_type": "code",
   "execution_count": 19,
   "id": "1a23b733",
   "metadata": {},
   "outputs": [
    {
     "data": {
      "image/png": "[encoded data removed]",
      "text/plain": [
       "<Figure size 432x288 with 1 Axes>"
      ]
     },
     "metadata": {
      "needs_background": "light"
     },
     "output_type": "display_data"
    }
   ],
   "source": [
    "graphs_qs(t_list, q_list)"
   ]
  },
  {
   "cell_type": "code",
   "execution_count": 12,
   "id": "149f080d",
   "metadata": {},
   "outputs": [
    {
     "data": {
      "image/png": "[encoded data removed]",
      "text/plain": [
       "<Figure size 432x288 with 6 Axes>"
      ]
     },
     "metadata": {
      "needs_background": "light"
     },
     "output_type": "display_data"
    }
   ],
   "source": [
    "graphs_taus(t_list, u_list)"
   ]
  },
  {
   "cell_type": "code",
   "execution_count": 23,
   "id": "350e17b0",
   "metadata": {},
   "outputs": [
    {
     "data": {
      "image/png": "[encoded data removed]",
      "text/plain": [
       "<Figure size 432x288 with 1 Axes>"
      ]
     },
     "metadata": {
      "needs_background": "light"
     },
     "output_type": "display_data"
    }
   ],
   "source": [
    "    fig, ax = plt.subplots()\n",
    "    plt.plot(t_list, qdot_list[:, :])\n",
    "    plt.grid(True)\n",
    "    ax.set_ylabel(r\"$\\dot{q} \\ [rad]$\", fontsize = 14)\n",
    "    ax.set_xlim(0, max(t_list))\n",
    "    ax.set_xlabel(r'\\textbf{Time (s)}')\n",
    "    ax.legend((r\"$\\dot{q}_0$\",r\"$\\dot{q}_1$\",r\"$\\dot{q}_2$\",r\"$\\dot{q}_3$\",r\"$\\dot{q}_4$\",r\"$\\dot{q}_5$\"),loc=\"upper right\")\n",
    "    fig.tight_layout()\n",
    "    plt.show()"
   ]
  },
  {
   "cell_type": "code",
   "execution_count": null,
   "id": "d3c4b35d",
   "metadata": {},
   "outputs": [],
   "source": []
  }
 ],
 "metadata": {
  "kernelspec": {
   "display_name": "Python 3 (ipykernel)",
   "language": "python",
   "name": "python3"
  },
  "language_info": {
   "codemirror_mode": {
    "name": "ipython",
    "version": 3
   },
   "file_extension": ".py",
   "mimetype": "text/x-python",
   "name": "python",
   "nbconvert_exporter": "python",
   "pygments_lexer": "ipython3",
   "version": "3.11.0"
  }
 },
 "nbformat": 4,
 "nbformat_minor": 5
}
