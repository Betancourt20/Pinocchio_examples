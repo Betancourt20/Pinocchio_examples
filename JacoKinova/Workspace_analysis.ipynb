{
 "cells": [
  {
   "cell_type": "code",
   "execution_count": 2,
   "metadata": {},
   "outputs": [],
   "source": [
    "from pickle import GLOBAL\n",
    "import pinocchio as pin\n",
    "import numpy as np\n",
    "import time\n",
    "import math\n",
    "import sys\n",
    "from numpy.linalg import norm, inv, pinv, det, matrix_rank\n",
    "import pandas as pd"
   ]
  },
  {
   "cell_type": "code",
   "execution_count": 3,
   "metadata": {},
   "outputs": [],
   "source": [
    "pinocchio_model_dir = '/home/unknown/Documents/Posdoc/ModelsCads/urdf' \n",
    "mesh_dir = pinocchio_model_dir + '/kinova_description/meshes/'\n",
    "urdf_model_path =pinocchio_model_dir + '/j2s6s200_simple.urdf'\n",
    "model, collision_model, visual_model = pin.buildModelsFromUrdf(urdf_model_path, mesh_dir)"
   ]
  },
  {
   "cell_type": "code",
   "execution_count": 4,
   "metadata": {},
   "outputs": [],
   "source": [
    "frameIndex = model.getFrameId('j2s6s200_end_effector')\n",
    "jointIndex = model.frames[frameIndex].parent\n",
    "# Create data required by the algorithms\n",
    "data     = model.createData()"
   ]
  },
  {
   "cell_type": "code",
   "execution_count": 17,
   "metadata": {},
   "outputs": [],
   "source": [
    "def run_robot(): \n",
    "    # for runing the simulation\n",
    "    t = 0\n",
    "    dt = 1e-1\n",
    "\n",
    "    tau_q = 0.375\n",
    "    tau_x = 0.1\n",
    "    \n",
    "    md1 =15; md2 = 15;  md3 = 15\n",
    "    mds = np.array([md1, md2, md3])\n",
    "    Md = np.diag(mds) # Mass Matrix\n",
    "    Md_inv = np.linalg.pinv(Md)\n",
    "    \n",
    "    # for graphs\n",
    "    E1_list = []\n",
    "    manu_list = []\n",
    "    q_list = [] #q\n",
    "    pose_list = []\n",
    "    manipaxes_list = []\n",
    "    manipaxesinv_list = []\n",
    "    a = np.arange(47,180,1)\n",
    "    b = np.arange(19,180,1)\n",
    "    c = np.arange(65,295,1)\n",
    "\n",
    "    ## for runing the simulation\n",
    "    for k  in np.nditer(a):\n",
    "        t += dt\n",
    "        tic = time.time()\n",
    "        q2  = np.deg2rad(k)\n",
    "        for n in np.nditer(b):\n",
    "            q3  = np.deg2rad(n)\n",
    "            for p in np.nditer(c):\n",
    "                q5  = np.deg2rad(p)\n",
    "                q =np.array([0, q2, q3, np.pi, q5,0]) # Natural position as in the real case\n",
    "                pin.forwardKinematics(model,data,q)\n",
    "                pin.updateFramePlacements(model,data)\n",
    "                OM_act = data.oMf[frameIndex] # This is the pose of the end-effector refered in the frame of the base\n",
    "\n",
    "                pin.computeJointJacobians(model, data, q)\n",
    "                J=pin.getFrameJacobian(model,data,frameIndex,pin.LOCAL_WORLD_ALIGNED) # in the base frame\n",
    "                Jbl = J[:3] # linear part of the Jacobian\n",
    "                pos = np.array([OM_act.translation[0],OM_act.translation[1],OM_act.translation[2]])\n",
    "                x_vec = np.array([OM_act.translation[0], 0, 0])\n",
    "                y_vec = np.array([0, OM_act.translation[1], 0])\n",
    "                z_vec = np.array([0, 0, OM_act.translation[2]])                 \n",
    "                #Jbl = check_matrix(Jbl)\n",
    "                Al = Jbl@Jbl.T\n",
    "\n",
    "                Alx = x_vec.T@(Jbl@Jbl.T)@x_vec\n",
    "                Aly = y_vec.T@(Jbl@Jbl.T)@y_vec\n",
    "                Alz = z_vec.T@(Jbl@Jbl.T)@z_vec\n",
    "\n",
    "                Alx_inv = x_vec.T@inv(Jbl@Jbl.T)@x_vec\n",
    "                Aly_inv = y_vec.T@inv(Jbl@Jbl.T)@y_vec\n",
    "                Alz_inv = z_vec.T@inv(Jbl@Jbl.T)@z_vec\n",
    "\n",
    "                Al_det = (det(Al))\n",
    "                Upsilon = 4*(tau_x/tau_q)*(Jbl@Jbl.T)\n",
    "                if Al_det < 1e-15:  \n",
    "                   Al_det = 0.0                \n",
    "                if Al_det == 0.0:\n",
    "                    E1 = math.nan\n",
    "                else:\n",
    "                    E1 = norm(Md_inv@Upsilon,ord=2) # This should be less than 1\n",
    "                manip_linear = np.sqrt(Al_det)\n",
    "                manipx = Alx\n",
    "                manipy = Aly\n",
    "                manipz = Alz\n",
    "\n",
    "                manipx_inv = Alx_inv\n",
    "                manipy_inv = Aly_inv\n",
    "                manipz_inv = Alz_inv\n",
    "\n",
    "                manip_axes = np.array([manipx,manipy,manipz])\n",
    "                manip_axes_inv = np.array([manipx_inv,manipy_inv,manipz_inv])\n",
    "\n",
    "                q_list.append(q)\n",
    "                pose_list.append(pos)\n",
    "                manu_list.append(manip_linear)\n",
    "                E1_list.append(E1)\n",
    "                manipaxes_list.append(manip_axes)\n",
    "                manipaxesinv_list.append(manip_axes_inv)\n",
    "                toc = time.time()\n",
    "                ellapsed = toc - tic\n",
    "                dt_sleep = max(0,dt - (ellapsed))\n",
    "                time.sleep(dt_sleep)\n",
    "\n",
    "    manu_list = np.array(manu_list)\n",
    "    manipaxes_list = np.array(manipaxes_list)\n",
    "    manipaxesinv_list = np.array(manipaxesinv_list)\n",
    "    E1_list = np.array(E1_list)\n",
    "    q_list = np.array(q_list)\n",
    "    pose_list = np.array(pose_list)\n",
    "    \n",
    "    return  pose_list, q_list, manu_list, E1_list, manipaxes_list, manipaxesinv_list"
   ]
  },
  {
   "cell_type": "code",
   "execution_count": 18,
   "metadata": {},
   "outputs": [],
   "source": [
    "pose, q, manip, E1, manip_axes, manip_invaxes = run_robot()"
   ]
  },
  {
   "cell_type": "code",
   "execution_count": 19,
   "metadata": {},
   "outputs": [],
   "source": [
    "pd.DataFrame(pose).to_csv('pose_workspace_NE1.csv', index_label = \"Index\", header  = ['x','y','z'])    "
   ]
  },
  {
   "cell_type": "code",
   "execution_count": 20,
   "metadata": {},
   "outputs": [],
   "source": [
    "pd.DataFrame(manip).to_csv('manip_workspace_NE1.csv', index_label = \"Index\", header  = ['manip'])    "
   ]
  },
  {
   "cell_type": "code",
   "execution_count": 21,
   "metadata": {},
   "outputs": [],
   "source": [
    "pd.DataFrame(q).to_csv('qs_workspace_NE1.csv', index_label = \"Index\", header  = ['q1','q2','q3','q4','q5','q6'])    "
   ]
  },
  {
   "cell_type": "code",
   "execution_count": 22,
   "metadata": {},
   "outputs": [],
   "source": [
    "pd.DataFrame(E1).to_csv('E1_workspace_NE1.csv', index_label = \"Index\", header  = ['E1'])    "
   ]
  },
  {
   "cell_type": "code",
   "execution_count": 26,
   "metadata": {},
   "outputs": [],
   "source": [
    "pd.DataFrame(manip_axes).to_csv('manip_axes_workspace_NE1.csv', index_label = \"Index\", header  = ['manipx','manipy','manipz'])    "
   ]
  },
  {
   "cell_type": "code",
   "execution_count": 25,
   "metadata": {},
   "outputs": [],
   "source": [
    "pd.DataFrame(manip_invaxes).to_csv('manip_invaxes_workspace_NE1.csv', index_label = \"Index\", header  = ['manipx','manipy','manipz'])    "
   ]
  }
 ],
 "metadata": {
  "kernelspec": {
   "display_name": "Python 3 (ipykernel)",
   "language": "python",
   "name": "python3"
  },
  "language_info": {
   "codemirror_mode": {
    "name": "ipython",
    "version": 3
   },
   "file_extension": ".py",
   "mimetype": "text/x-python",
   "name": "python",
   "nbconvert_exporter": "python",
   "pygments_lexer": "ipython3",
   "version": "3.11.0"
  }
 },
 "nbformat": 4,
 "nbformat_minor": 2
}
