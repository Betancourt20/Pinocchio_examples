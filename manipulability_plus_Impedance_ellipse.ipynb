{
 "cells": [
  {
   "cell_type": "markdown",
   "id": "fce6a5d1",
   "metadata": {},
   "source": [
    "# Task-Space Control of a 6 dof manipulator"
   ]
  },
  {
   "cell_type": "markdown",
   "id": "59dce85c",
   "metadata": {},
   "source": [
    "## Imort all the modules needed for the simulation"
   ]
  },
  {
   "cell_type": "code",
   "execution_count": 1,
   "id": "fcfb65a2",
   "metadata": {},
   "outputs": [],
   "source": [
    "from pickle import GLOBAL\n",
    "from mpl_toolkits import mplot3d\n",
    "import pinocchio as pin\n",
    "import numpy as np\n",
    "import sys\n",
    "import os\n",
    "from os.path import dirname, join, abspath\n",
    "from pinocchio.visualize import MeshcatVisualizer\n",
    "import time\n",
    "import math\n",
    "import meshcat\n",
    "import matplotlib.pyplot as plt\n",
    "from numpy.linalg import norm, solve\n",
    "from scipy.spatial.transform import Rotation\n",
    "import meshcat.transformations as tf\n",
    "import meshcat.geometry as g\n",
    "from numpy.linalg import inv,pinv,eig,norm,svd,det\n",
    "plt.rcParams['text.usetex'] = True\n",
    "#%matplotlib notebook"
   ]
  },
  {
   "cell_type": "code",
   "execution_count": 2,
   "id": "02e032cf",
   "metadata": {},
   "outputs": [],
   "source": [
    "def mprint(M, name=\"ans\",eps=1e-15):\n",
    "    '''\n",
    "    Matlab-style pretty matrix print.\n",
    "    '''\n",
    "    if isinstance(M, pin.SE3):\n",
    "        M = M.homogeneous\n",
    "    if len(M.shape) == 1:\n",
    "        M = np.expand_dims(M, axis=0)\n",
    "    ncol = M.shape[1]\n",
    "    NC = 6\n",
    "    print(name, \" = \")\n",
    "    print()\n",
    "\n",
    "    Mmin = lambda M: M.min()\n",
    "    Mmax = lambda M: M.max()\n",
    "    Mm = Mmin(abs(M[np.nonzero(M)]))\n",
    "    MM = Mmax(abs(M[np.nonzero(M)]))\n",
    "\n",
    "    fmt = \"% 10.4f\" if Mm < 1e-5 or MM > 1e6 or MM / Mm > 1e3 else \"% 1.5f\"\n",
    "    for i in range(math.floor((ncol - 1) / NC + 1)):\n",
    "        cmin = i * 6\n",
    "        cmax = (i + 1) * 6\n",
    "        cmax = ncol if ncol < cmax else cmax\n",
    "        print(\"Columns %s through %s\" % (cmin, cmax - 1))\n",
    "        print()\n",
    "        for r in range(M.shape[0]):\n",
    "            sys.stdout.write(\"  \")\n",
    "            for c in range(cmin, cmax):\n",
    "                if abs(M[r,c])>eps: sys.stdout.write(fmt % M[r,c]  + \"   \")\n",
    "                else: sys.stdout.write(\" 0\"+\" \"*9)\n",
    "            print()\n",
    "        print()"
   ]
  },
  {
   "cell_type": "markdown",
   "id": "4424bdca",
   "metadata": {},
   "source": [
    "## Meshcat functions"
   ]
  },
  {
   "cell_type": "code",
   "execution_count": 3,
   "id": "1b7a8c0f",
   "metadata": {},
   "outputs": [],
   "source": [
    "def meshcat_material(r, g, b, a):\n",
    "    import meshcat\n",
    "\n",
    "    material = meshcat.geometry.MeshPhongMaterial()\n",
    "    material.color = int(r * 255) * 256 ** 2 + int(g * 255) * 256 + int(b * 255)\n",
    "    material.opacity = a\n",
    "    return material\n"
   ]
  },
  {
   "cell_type": "markdown",
   "id": "43ee7e1c",
   "metadata": {},
   "source": [
    "## Bring the URDF model of the robot "
   ]
  },
  {
   "cell_type": "code",
   "execution_count": 4,
   "id": "63f1e41b",
   "metadata": {},
   "outputs": [],
   "source": [
    "pinocchio_model_dir = '/home/unknown/Documents/Posdoc/ModelsCads/urdf' \n",
    "mesh_dir = pinocchio_model_dir + '/kinova_description/meshes/'\n",
    "urdf_model_path =pinocchio_model_dir + '/j2s6s200_simple.urdf'\n",
    "model, collision_model, visual_model = pin.buildModelsFromUrdf(urdf_model_path, mesh_dir)\n",
    "# Choose of the visualizer\n",
    "viz = MeshcatVisualizer(model, collision_model, visual_model)"
   ]
  },
  {
   "cell_type": "markdown",
   "id": "68309b43",
   "metadata": {},
   "source": [
    "## Identify the frame and joint IDs"
   ]
  },
  {
   "cell_type": "code",
   "execution_count": 5,
   "id": "5b7a2daf",
   "metadata": {},
   "outputs": [],
   "source": [
    "frameIndex = model.getFrameId('j2s6s200_end_effector')\n",
    "jointIndex = model.frames[frameIndex].parent"
   ]
  },
  {
   "cell_type": "markdown",
   "id": "9eb8c009",
   "metadata": {},
   "source": [
    "## Initialize the viewer"
   ]
  },
  {
   "cell_type": "code",
   "execution_count": 6,
   "id": "d1293b18",
   "metadata": {},
   "outputs": [
    {
     "name": "stdout",
     "output_type": "stream",
     "text": [
      "You can open the visualizer by visiting the following URL:\n",
      "http://127.0.0.1:7023/static/\n"
     ]
    }
   ],
   "source": [
    "try:\n",
    "    viz.initViewer()\n",
    "except ImportError as err:\n",
    "    print(\"Error while initializing the viewer. It seems you should install gepetto-viewer\")\n",
    "    print(err)\n",
    "    sys.exit(0)\n",
    "\n",
    "try:\n",
    "    viz.loadViewerModel(\"pinocchio\")\n",
    "except AttributeError as err:\n",
    "    print(\"Error while loading the viewer model. It seems you should start gepetto-viewer\")\n",
    "    print(err)\n",
    "    sys.exit(0)\n",
    "viz.viewer['world'].set_transform(np.array(pin.XYZQUATToSE3([0, 0, 0, 0, 0, 1, 0])))"
   ]
  },
  {
   "cell_type": "markdown",
   "id": "db5ff282",
   "metadata": {},
   "source": [
    "## Manipulator dynamic model"
   ]
  },
  {
   "cell_type": "markdown",
   "id": "d8dbdf11",
   "metadata": {},
   "source": [
    "\\begin{equation}\n",
    "\\mathbf{\n",
    "M(q)\\ddot{q} + C(q,\\dot{q})\\dot{q} + g(q) = \\tau }\n",
    "\\label{eq:01}\n",
    "\\end{equation}"
   ]
  },
  {
   "cell_type": "markdown",
   "id": "c48aa80d",
   "metadata": {},
   "source": [
    "### The closed loop control law $\\tau$ can be written "
   ]
  },
  {
   "cell_type": "markdown",
   "id": "67f7ec06",
   "metadata": {},
   "source": [
    "\\begin{equation}\n",
    "\\mathbf{\n",
    "{\\tau} = M(q)u +  g(q) + C(q,\\dot{q})}\n",
    "\\end{equation}\n",
    "where\n",
    "\\begin{equation}\n",
    "\\mathbf{\n",
    "u = J^{-1}(q)(\\ddot{x}_d+ K_d \\dot{\\tilde{x}} + K_p {\\tilde{x}} - \\dot{J}\\dot{q})};  ~~~~~~ \\tilde{x}= x_d - x\n",
    "\\end{equation} "
   ]
  },
  {
   "cell_type": "markdown",
   "id": "c6b19ab9",
   "metadata": {},
   "source": [
    "## Simulation function"
   ]
  },
  {
   "cell_type": "code",
   "execution_count": 10,
   "id": "32feca9a",
   "metadata": {},
   "outputs": [],
   "source": [
    "def run_robot():\n",
    "    \n",
    "    # Create data required by the algorithms\n",
    "    data = model.createData()\n",
    "\n",
    "    # Sample a random configuration\n",
    "    q =np.array([np.pi, np.pi/2, np.pi, np.pi, np.pi,np.pi])\n",
    "    qdot = pin.utils.zero(model.nv) # this is the angular velocity \n",
    "    a = pin.utils.zero(model.nv)\n",
    "\n",
    "    pin.forwardKinematics(model,data,q)\n",
    "    pin.updateFramePlacements(model,data) #Computes the placement of all the joints\n",
    "    OM_act=data.oMf[model.getFrameId(\"j2s6s200_end_effector\")]\n",
    " \n",
    "    # Control variables\n",
    "    nuvs = 7\n",
    "    kvs = np.array([nuvs, nuvs, nuvs, nuvs, nuvs, nuvs])\n",
    "    Kv = np.diag(kvs)\n",
    "\n",
    "    luvs = 5\n",
    "    kps = np.array([luvs, luvs, luvs,luvs, luvs, luvs])\n",
    "    Kp = np.diag(kps)\n",
    "    \n",
    "    ## For impedance ellipse\n",
    "    d1 =20; d2 =20;  d3 =20; \n",
    "    ds = np.array([d1, d2, d3])\n",
    "    Dd = np.diag(ds) #  Damper Matrix\n",
    "\n",
    "    md1 =10; md2 =10;  md3 =10;\n",
    "    mds = np.array([md1, md2, md3])\n",
    "    Md = np.diag(mds) # Mass Matrix\n",
    "    A = -np.linalg.pinv(Md)@Dd\n",
    "\n",
    "\n",
    "    t = 0\n",
    "    dt = 5e-2\n",
    "    T = 5\n",
    "    N = math.floor(T/dt)\n",
    "    \n",
    "    # for graphs\n",
    "    t_list = []\n",
    "    u_list = []    \n",
    "    q_list = [] #q\n",
    "    pose_list = []\n",
    "    pose_des_list = []\n",
    "    \n",
    "    # This is the desired orientation and pose. The static pose is -0.1643, 0.21839, 0.5414\n",
    "    oMdes = OM_act#pin.SE3(OM_act.rotation,np.array([-0.6643, 0.21839, 0.5414])) \n",
    "    viz.viewer['world/ball'].set_object(g.Sphere(0.03),\n",
    "                                    meshcat_material(*[0.7, 0.7,0.7, .9]))\n",
    "    viz.viewer['world/ball'].set_transform(tf.translation_matrix([oMdes.translation[0]*-1, \n",
    "                                                                  oMdes.translation[1]*-1, oMdes.translation[2]]))\n",
    "    for k in range(N):\n",
    "        t += dt\n",
    "        tic = time.time()\n",
    "\n",
    "        pin.forwardKinematics(model,data,q)\n",
    "        pin.updateFramePlacements(model,data)\n",
    "        OM_act = data.oMf[frameIndex]\n",
    "\n",
    "        oriErrorRotm = OM_act.rotation.T@oMdes.rotation\n",
    "        rot = Rotation.from_matrix(oriErrorRotm)\n",
    "        oriErrorEul = rot.as_euler('YXZ')\n",
    "        posError = OM_act.translation.T-oMdes.translation.T\n",
    "        posError = np.concatenate((posError,oriErrorEul))\n",
    "\n",
    "\n",
    "        pin.computeJointJacobians(model, data, q) # Compute all the Jacobians for all the joints\n",
    "        J=pin.getFrameJacobian(model,data,frameIndex,pin.LOCAL_WORLD_ALIGNED) # in the base frame  \n",
    "        dJ = pin.computeJointJacobiansTimeVariation(model,data,q,qdot) # Derivative of the Jacobian\n",
    "        #Jb=pin.getFrameJacobian(model,data,frameIndex,pin.LOCAL) # in the body frame  \n",
    "        Jbl = J[3:] # linear part of the Jacobian\n",
    "        #Jbw = J[:3] # Angular part of the Jacobian\n",
    "        #Aw = Jbw@Jbw.T\n",
    "        Al = Jbl@Jbl.T\n",
    "        #manip_linear = np.sqrt(det(Al)) # angular velocity manipulability \n",
    "        #manip_angular = np.sqrt(det(Aw)) # linear velocity manipulability\n",
    "        U, s, rotation = svd((Al))\n",
    "        # This is for the vellipse\n",
    "        #rotation = np.array([[0, 0, -1],[0.00995, 1, 0],[-1, 0.00995, 0]])\n",
    "        rott = Rotation.from_matrix(rotation)    \n",
    "        r=rott.as_rotvec()\n",
    "        ang_rot = norm(r)\n",
    "        # For impedance ellipse\n",
    "        z_unit = np.array([0,0,1])\n",
    "        v1 = (OM_act.translation)/norm(OM_act.translation)\n",
    "        v2 = np.cross(z_unit,v1)/norm(np.cross(z_unit,v1))\n",
    "        v3 = np.cross(v1,v2)\n",
    "        Q = np.concatenate((v1[:,None],v2[:,None],v3[:,None]),axis=1)\n",
    "        \n",
    "        Adr = (Q@A@Q.T)\n",
    "        UU, ss, rotation2 = svd(Adr)\n",
    "        rott2 = Rotation.from_matrix(rotation2)    \n",
    "        r2=rott2.as_rotvec()\n",
    "        ang_rot2 = norm(r2)\n",
    "        radii = 1.0 / np.sqrt(s)\n",
    "        radii2 = 1.0 / np.sqrt(ss)    \n",
    "        \n",
    "        if radii[2] > 1E+5:\n",
    "           radii[2] = np.inf\n",
    "        if radii[1] > 1E+5:\n",
    "           radii[1] = np.inf\n",
    "        if radii[0] > 1E+5:\n",
    "           radii[0] = np.inf  \n",
    "        \n",
    "        viz.viewer['world/vellipse'].set_object(g.Ellipsoid([radii[0]*0.1,radii[1]*0.1,radii[2]*0.1]),meshcat_material(*[.2, .2, 1., .3]) )\n",
    "        viz.viewer['world/vellipse'].set_transform(tf.translation_matrix([OM_act.translation[0]*-1, \n",
    "        OM_act.translation[1]*-1, OM_act.translation[2]]).dot(tf.rotation_matrix(ang_rot,r))) \n",
    "\n",
    "        #viz.viewer['world/fellipse'].set_object(g.Ellipsoid([radii2[0]*0.3,radii2[1]*0.3,radii2[2]*0.3]),meshcat_material(*[.5, .5, 0., 0.8]) )\n",
    "        #viz.viewer['world/fellipse'].set_transform(tf.translation_matrix([OM_act.translation[0]*-1, \n",
    "        #OM_act.translation[1]*-1, OM_act.translation[2]]).dot(tf.rotation_matrix(ang_rot2,r2))) \n",
    "\n",
    "        xdot = J@qdot\n",
    "\n",
    "        # Compute torque control\n",
    "        u_c = -Kp@posError - Kv@xdot + dJ@qdot\n",
    "        a = solve(J,u_c)\n",
    "        tau = pin.rnea(model, data, q, qdot, a)\n",
    "\n",
    "        # Compute forward dynamics\n",
    "        qddot = pin.aba(model, data, q, qdot, tau)\n",
    "\n",
    "        qdot += qddot * dt \n",
    "        q = pin.integrate(model,q,qdot*dt)\n",
    "\n",
    "        pos = np.array([OM_act.translation[0],OM_act.translation[1],OM_act.translation[2]])\n",
    "        # Show model with a visualizer of your choice\n",
    "        viz.display(q)\n",
    "        q_list.append(q)\n",
    "        pose_list.append(pos)\n",
    "        pose_des_list.append(oMdes.translation)\n",
    "        t_list.append(t)\n",
    "        u_list.append(tau)\n",
    "\n",
    "        toc = time.time() \n",
    "        ellapsed = toc - tic\n",
    "        dt_sleep = max(0,dt - (ellapsed))\n",
    "        time.sleep(dt_sleep)\n",
    "\n",
    "    t_list = np.array(t_list)\n",
    "    u_list = np.array(u_list)\n",
    "    q_list = np.array(q_list)\n",
    "    pose_list = np.array(pose_list)\n",
    "    pose_des_list = np.array(pose_des_list)\n",
    "\n",
    "    return t_list, u_list, q_list, pose_list, pose_des_list"
   ]
  },
  {
   "cell_type": "markdown",
   "id": "22f73473",
   "metadata": {},
   "source": [
    "## Graphs functions ($\\tau$, $q$, ($\\xi_{ee},\\eta_{ee})$)"
   ]
  },
  {
   "cell_type": "code",
   "execution_count": 11,
   "id": "d6bdc28b",
   "metadata": {
    "scrolled": false
   },
   "outputs": [
    {
     "data": {
      "text/html": [
       "\n",
       "            <div style=\"height: 400px; width: 100%; overflow-x: auto; overflow-y: hidden; resize: both\">\n",
       "            <iframe src=\"http://127.0.0.1:7023/static/\" style=\"width: 100%; height: 100%; border: none\"></iframe>\n",
       "            </div>\n",
       "            "
      ],
      "text/plain": [
       "<IPython.core.display.HTML object>"
      ]
     },
     "execution_count": 11,
     "metadata": {},
     "output_type": "execute_result"
    }
   ],
   "source": [
    "isinstance(viz, pin.visualize.MeshcatVisualizer) and viz.viewer.jupyter_cell()"
   ]
  },
  {
   "cell_type": "code",
   "execution_count": 12,
   "id": "777635ed",
   "metadata": {},
   "outputs": [],
   "source": [
    "t_list, u_list, q_list, pose_list, pose_des_list = run_robot()"
   ]
  },
  {
   "cell_type": "code",
   "execution_count": 23,
   "id": "0dc01691",
   "metadata": {},
   "outputs": [],
   "source": [
    "def plotEllipsoid(radii,rotation, radii2, rotation2, ax=None, plotAxes=False, cageColor='b', cageAlpha=0.2):\n",
    "    \"\"\"Plot an ellipsoid\"\"\"\n",
    "    make_ax = ax == None\n",
    "    if make_ax:\n",
    "        fig = plt.figure()\n",
    "        ax = fig.add_subplot(111, projection='3d')\n",
    "\n",
    "    u = np.linspace(0.0, 2.0 * np.pi, 50)\n",
    "    v = np.linspace(0.0, np.pi, 50)\n",
    "    \n",
    "    x = radii[0] * np.outer(np.cos(u), np.sin(v))\n",
    "    y = radii[1] * np.outer(np.sin(u), np.sin(v))\n",
    "    z = radii[2] * np.outer(np.ones_like(u), np.cos(v))\n",
    "    \n",
    "    x2 = radii2[0] *np.outer(np.cos(u), np.sin(v))\n",
    "    y2 = radii2[1] * np.outer(np.sin(u), np.sin(v))\n",
    "    z2 = radii2[2] * np.outer(np.ones_like(u), np.cos(v))\n",
    "    \n",
    "    \n",
    "    #x[x>0] *= radii[0] \n",
    "    #x2[x2<0] *= radii2[0]\n",
    "\n",
    "    # rotate accordingly\n",
    "    for i in range(len(x)):\n",
    "        for j in range(len(x)):\n",
    "            [x[i,j],y[i,j],z[i,j]] = np.dot([x[i,j],y[i,j],z[i,j]], rotation) \n",
    "            \n",
    "    # rotate accordingly\n",
    "    for i in range(len(x2)):\n",
    "        for j in range(len(x2)):\n",
    "            [x2[i,j],y2[i,j],z2[i,j]] = np.dot([x2[i,j],y2[i,j],z2[i,j]], rotation2)     \n",
    "            \n",
    "\n",
    "    #ax.plot_surface(x, y, z,  rstride=5, cstride=5, color='r')\n",
    "    \n",
    "    ax.plot_surface(x2, y2, z2,  rstride=6, cstride=6, color='b')\n",
    "\n",
    "    \n",
    "#     if plotAxes:\n",
    "#         # make some purdy axes\n",
    "#         axes = np.array([[radii[0],0.0,0.0],\n",
    "#                          [0.0,radii[1],0.0],\n",
    "#                          [0.0,0.0,radii[2]]])\n",
    "    \n",
    "#     # rotate accordingly\n",
    "#         for i in range(len(axes)):\n",
    "#             axes[i] = np.dot(axes[i], rotation)\n",
    "\n",
    "#         # plot axes\n",
    "#         for p in axes:\n",
    "#             X3 = np.linspace(-p[0], p[0], 100) #+ center[0]\n",
    "#             Y3 = np.linspace(-p[1], p[1], 100) #+ center[1]\n",
    "#             Z3 = np.linspace(-p[2], p[2], 100) #+ center[2]\n",
    "#             ax.plot(X3, Y3, Z3, color=cageColor)\n",
    "\n",
    "    #ax.plot_wireframe(x, y, z,  rstride=4, cstride=4, color='r', alpha=cageAlpha)\n",
    "    ax.plot_wireframe(x2, y2, z2,  rstride=8, cstride=8, color=cageColor, alpha=0.2)\n",
    "    #plt.show()\n",
    "#     if make_ax:\n",
    "#         plt.show()\n",
    "#         plt.close(fig)\n",
    "#         del fig"
   ]
  },
  {
   "cell_type": "code",
   "execution_count": 32,
   "id": "48e2446a",
   "metadata": {},
   "outputs": [
    {
     "name": "stdout",
     "output_type": "stream",
     "text": [
      "[[ 0.00000000e+00 -1.00000000e+00  3.33066907e-16]\n",
      " [-1.00000000e+00 -0.00000000e+00 -0.00000000e+00]\n",
      " [ 0.00000000e+00  3.33066907e-16  1.00000000e+00]]\n"
     ]
    }
   ],
   "source": [
    "# Create data required by the algorithms\n",
    "data = model.createData()\n",
    "# Sample a random configuration\n",
    "q =np.array([np.pi, np.pi/2, np.pi, np.pi, np.pi,np.pi])\n",
    "pin.forwardKinematics(model,data,q)\n",
    "pin.updateFramePlacements(model,data)\n",
    "OM_act = data.oMf[frameIndex]\n",
    "z_unit = np.array([0,0,1])\n",
    "v1 = (OM_act.translation)/norm(OM_act.translation)\n",
    "v2 = np.cross(z_unit,v1)/norm(np.cross(z_unit,v1))\n",
    "v3 = np.cross(v1,v2)\n",
    "Q = np.concatenate((v1[:,None],v2[:,None],v3[:,None]),axis=1)\n",
    "## For impedance ellipse\n",
    "d1 =20; d2 =20;  d3 =20; \n",
    "ds = np.array([d1, d2, d3])\n",
    "Dd = np.diag(ds) #  Damper Matrix\n",
    "\n",
    "md1 =10; md2 =10;  md3 =10;\n",
    "mds = np.array([md1, md2, md3])\n",
    "Md = np.diag(mds) # Mass Matrix\n",
    "A = -np.linalg.pinv(Md)@Dd\n",
    "B = np.linalg.pinv(Md)\n",
    "Adr = (Q@A@Q.T)\n",
    "Bdr = (Q@B@Q.T)\n",
    "radii = 1.0 / np.sqrt(np.diag(Adr*-1))\n",
    "## manipulability \n",
    "pin.computeJointJacobians(model, data, q) # Compute all the Jacobians for all the joints\n",
    "J= pin.getFrameJacobian(model,data,frameIndex,pin.LOCAL_WORLD_ALIGNED) # in the base frame  \n",
    "Jbl = J[3:] # linear part of the Jacobian\n",
    "Al = Jbl@Jbl.T\n",
    "U, s, rotation = np.linalg.svd(Al)\n",
    "manip_linear = np.sqrt(det(Al))\n",
    "#print(manip_linear)\n",
    "# This is for the vellipse\n",
    "radii2 = 1.0 / np.sqrt(s)\n",
    "if radii2[2] > 1E+5:\n",
    "    radii2[2] = np.inf\n",
    "if radii2[1] > 1E+5:\n",
    "    radii2[1] = np.inf\n",
    "if radii2[0] > 1E+5:\n",
    "    radii2[0] = np.inf    \n",
    "#radii2 = [5.77350269e-01, 5.77350269e-01, np.inf]\n",
    "rotation = np.array([[0, 0, -1],[0.00995, 1, 0],[-1, 0.00995, 0]])\n",
    "print(rotation)\n"
   ]
  },
  {
   "cell_type": "code",
   "execution_count": 33,
   "id": "735d1f76",
   "metadata": {},
   "outputs": [
    {
     "data": {
      "image/png": "[encoded data removed]",
      "text/plain": [
       "<Figure size 640x480 with 1 Axes>"
      ]
     },
     "metadata": {},
     "output_type": "display_data"
    }
   ],
   "source": [
    "plotEllipsoid(radii,Q,radii2,rotation)"
   ]
  },
  {
   "cell_type": "code",
   "execution_count": null,
   "id": "da2c5342",
   "metadata": {},
   "outputs": [],
   "source": []
  }
 ],
 "metadata": {
  "kernelspec": {
   "display_name": "Python 3 (ipykernel)",
   "language": "python",
   "name": "python3"
  },
  "language_info": {
   "codemirror_mode": {
    "name": "ipython",
    "version": 3
   },
   "file_extension": ".py",
   "mimetype": "text/x-python",
   "name": "python",
   "nbconvert_exporter": "python",
   "pygments_lexer": "ipython3",
   "version": "3.11.0"
  }
 },
 "nbformat": 4,
 "nbformat_minor": 5
}
