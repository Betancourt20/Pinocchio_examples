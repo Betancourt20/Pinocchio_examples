{
 "cells": [
  {
   "cell_type": "code",
   "execution_count": 1,
   "metadata": {},
   "outputs": [],
   "source": [
    "from pickle import GLOBAL\n",
    "import pinocchio as pin\n",
    "import numpy as np\n",
    "import time\n",
    "import math\n",
    "import sys\n",
    "from numpy.linalg import norm, inv, pinv, det, matrix_rank\n",
    "import pandas as pd"
   ]
  },
  {
   "cell_type": "code",
   "execution_count": 2,
   "metadata": {},
   "outputs": [],
   "source": [
    "pinocchio_model_dir = '/home/unknown/Documents/Posdoc/ModelsCads/urdf' \n",
    "mesh_dir = pinocchio_model_dir + '/kinova_description/meshes/'\n",
    "urdf_model_path =pinocchio_model_dir + '/j2s6s200_simple.urdf'\n",
    "model, collision_model, visual_model = pin.buildModelsFromUrdf(urdf_model_path, mesh_dir)"
   ]
  },
  {
   "cell_type": "code",
   "execution_count": 3,
   "metadata": {},
   "outputs": [],
   "source": [
    "frameIndex = model.getFrameId('j2s6s200_end_effector')\n",
    "jointIndex = model.frames[frameIndex].parent\n",
    "# Create data required by the algorithms\n",
    "data     = model.createData()"
   ]
  },
  {
   "cell_type": "code",
   "execution_count": 12,
   "metadata": {},
   "outputs": [],
   "source": [
    "def run_robot(): \n",
    "    # for runing the simulation\n",
    "    t = 0\n",
    "    dt = 1e-1\n",
    "    \n",
    "    # for graphs\n",
    "    E1_list = []\n",
    "    manu_list = []\n",
    "    q_list = [] #q\n",
    "    pose_list = []\n",
    "    \n",
    "    a = np.arange(47,180,1)\n",
    "    b = np.arange(19,180,1)\n",
    "    c = np.arange(65,295,1)\n",
    "\n",
    "    ## for runing the simulation\n",
    "    for k  in np.nditer(a):\n",
    "        t += dt\n",
    "        tic = time.time()\n",
    "        q2  = np.deg2rad(k)\n",
    "        for n in np.nditer(b):\n",
    "            q3  = np.deg2rad(n)\n",
    "            for p in np.nditer(c):\n",
    "                q5  = np.deg2rad(p)\n",
    "                q =np.array([0, q2, q3, np.pi, q5,0]) # Natural position as in the real case\n",
    "                pin.forwardKinematics(model,data,q)\n",
    "                pin.updateFramePlacements(model,data)\n",
    "                OM_act = data.oMf[frameIndex] # This is the pose of the end-effector refered in the frame of the base\n",
    "\n",
    "                pin.computeJointJacobians(model, data, q)\n",
    "                J=pin.getFrameJacobian(model,data,frameIndex,pin.LOCAL_WORLD_ALIGNED) # in the base frame\n",
    "                Jbl = J[:3] # linear part of the Jacobian\n",
    "                #Jbl = check_matrix(Jbl)\n",
    "                Al = Jbl@Jbl.T\n",
    "                Al_det = (det(Al))\n",
    "\n",
    "                if Al_det < 1e-15:  \n",
    "                   Al_det = 0.0\n",
    "                \n",
    "                if Al_det == 0.0:\n",
    "                    E1 = math.nan\n",
    "                else:\n",
    "                    Al_inv = inv(Al)\n",
    "                    E1 = norm(Al_inv,ord=2)\n",
    "                manip_linear = np.sqrt(Al_det)\n",
    "                pos = np.array([OM_act.translation[0],OM_act.translation[1],OM_act.translation[2]])\n",
    "\n",
    "                q_list.append(q)\n",
    "                pose_list.append(pos)\n",
    "                manu_list.append(manip_linear)\n",
    "                E1_list.append(E1)\n",
    "\n",
    "\n",
    "                toc = time.time()\n",
    "                ellapsed = toc - tic\n",
    "                dt_sleep = max(0,dt - (ellapsed))\n",
    "                time.sleep(dt_sleep)\n",
    "\n",
    "    manu_list = np.array(manu_list)\n",
    "    E1_list = np.array(E1_list)\n",
    "    q_list = np.array(q_list)\n",
    "    pose_list = np.array(pose_list)\n",
    "    \n",
    "    return  pose_list, q_list, manu_list, E1_list"
   ]
  },
  {
   "cell_type": "code",
   "execution_count": 56,
   "metadata": {},
   "outputs": [],
   "source": [
    "def check_matrix(M, eps=1e-15):\n",
    "    ncol = M.shape[1]\n",
    "    NC = 6\n",
    "    for i in range(math.floor((ncol - 1) / NC + 1)):\n",
    "            cmin = i * 6\n",
    "            cmax = (i + 1) * 6\n",
    "            cmax = ncol if ncol < cmax else cmax\n",
    "            #print(\"Columns %s through %s\" % (cmin, cmax - 1))\n",
    "            #print()\n",
    "            for r in range(M.shape[0]):\n",
    "                sys.stdout.write(\"  \")\n",
    "                for c in range(cmin, cmax):\n",
    "                    if abs(M[r,c])>eps: \n",
    "                        M[r,c] = M[r,c]\n",
    "                    else: \n",
    "                        M[r,c] =0\n",
    "                #print()\n",
    "            #print()\n",
    "    return M"
   ]
  },
  {
   "cell_type": "code",
   "execution_count": 8,
   "metadata": {},
   "outputs": [
    {
     "name": "stdout",
     "output_type": "stream",
     "text": [
      "nan\n"
     ]
    }
   ],
   "source": [
    "### Only for tests ####\n",
    "q =np.array([np.pi, np.pi, np.pi, np.pi, np.pi,0])\n",
    "#q =np.array([0, 2.9, 1.3, -2.07, 1.4,0]) # Natural position as in the real case\n",
    "pin.forwardKinematics(model,data,q)\n",
    "pin.updateFramePlacements(model,data)\n",
    "OM_act = data.oMf[frameIndex] # This is the pose of the end-effector refered in the frame of the base\n",
    "\n",
    "pin.computeJointJacobians(model, data, q)\n",
    "J=pin.getFrameJacobian(model,data,frameIndex,pin.LOCAL_WORLD_ALIGNED) # in the base frame\n",
    "Jbl = J[:3] # linear part of the Jacobian\n",
    "#Jbl = check_matrix(Jbl)\n",
    "Al = Jbl@Jbl.T\n",
    "Al_det = (det(Al)) \n",
    "if Al_det < 1e-15:  \n",
    "    Al_det = 0.0\n",
    "if Al_det == 0.0:\n",
    "   Al_inv = np.array([(math.nan, math.nan,math.nan),\n",
    "                      (math.nan, math.nan,math.nan),\n",
    "                      (math.nan, math.nan,math.nan)])\n",
    "   E1 = math.nan\n",
    "else:\n",
    "   Al_inv = inv(Al)\n",
    "   E1 = norm(Al_inv,ord=2)\n",
    "\n",
    "manip_linear = np.sqrt(Al_det)\n",
    "\n",
    "print(E1)\n",
    "#print(Al_inv)\n",
    "\n"
   ]
  },
  {
   "cell_type": "code",
   "execution_count": 13,
   "metadata": {},
   "outputs": [],
   "source": [
    "pose, q, manip, E1 = run_robot()"
   ]
  },
  {
   "cell_type": "code",
   "execution_count": 14,
   "metadata": {},
   "outputs": [],
   "source": [
    "pd.DataFrame(pose).to_csv('pose_workspaceXZE1.csv', index_label = \"Index\", header  = ['x','y','z'])    "
   ]
  },
  {
   "cell_type": "code",
   "execution_count": 15,
   "metadata": {},
   "outputs": [],
   "source": [
    "pd.DataFrame(manip).to_csv('manip_workspaceXZE1.csv', index_label = \"Index\", header  = ['manip'])    "
   ]
  },
  {
   "cell_type": "code",
   "execution_count": 16,
   "metadata": {},
   "outputs": [],
   "source": [
    "pd.DataFrame(q).to_csv('qs_workspaceXZE1.csv', index_label = \"Index\", header  = ['q1','q2','q3','q4','q5','q6'])    "
   ]
  }
 ],
 "metadata": {
  "kernelspec": {
   "display_name": "Python 3 (ipykernel)",
   "language": "python",
   "name": "python3"
  },
  "language_info": {
   "codemirror_mode": {
    "name": "ipython",
    "version": 3
   },
   "file_extension": ".py",
   "mimetype": "text/x-python",
   "name": "python",
   "nbconvert_exporter": "python",
   "pygments_lexer": "ipython3",
   "version": "3.11.0"
  }
 },
 "nbformat": 4,
 "nbformat_minor": 2
}
